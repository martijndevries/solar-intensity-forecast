{
  "cells": [
    {
      "cell_type": "code",
      "execution_count": 2,
      "id": "4c343c2f-1d8f-4cdc-a1cd-ca4183d37142",
      "metadata": {
        "id": "4c343c2f-1d8f-4cdc-a1cd-ca4183d37142"
      },
      "outputs": [],
      "source": [
        "import pandas as pd\n",
        "import numpy as np\n",
        "\n",
        "from sklearn.preprocessing import StandardScaler, MinMaxScaler\n",
        "from sklearn.model_selection import train_test_split\n",
        "from sklearn.metrics import r2_score\n",
        "\n",
        "from tensorflow.keras.models import Sequential\n",
        "from tensorflow.keras.layers import Dense, Dropout, GRU, Conv1D, TimeDistributed, LSTM\n",
        "from tensorflow.keras import layers\n",
        "from tensorflow import keras\n",
        "from tensorflow.keras.optimizers import Adam\n",
        "from tensorflow.keras.preprocessing.sequence import TimeseriesGenerator\n",
        "from tensorflow.keras.regularizers import l2\n",
        "\n",
        "import matplotlib.pyplot as plt"
      ]
    },
    {
      "cell_type": "code",
      "execution_count": 2,
      "id": "be55c35a-ac77-4edb-a400-90caeb2f25bc",
      "metadata": {
        "colab": {
          "base_uri": "https://localhost:8080/",
          "height": 404
        },
        "id": "be55c35a-ac77-4edb-a400-90caeb2f25bc",
        "outputId": "39d8e344-6e9e-4e72-bf74-d35aeb1d26d7"
      },
      "outputs": [
        {
          "output_type": "stream",
          "name": "stdout",
          "text": [
            "(87696, 11)\n"
          ]
        },
        {
          "output_type": "execute_result",
          "data": {
            "text/plain": [
              "                       Wind_x    Wind_y  Dew Point  Cloud Type  \\\n",
              "Date                                                             \n",
              "2016-01-01 00:00:00 -0.635439 -0.735724       -5.0           0   \n",
              "2016-01-01 00:30:00 -0.635439 -0.735724       -5.0           0   \n",
              "2016-01-01 01:00:00 -0.558814 -0.795487       -5.0           0   \n",
              "2016-01-01 01:30:00 -0.558814 -0.795487       -5.0           0   \n",
              "2016-01-01 02:00:00 -0.479173 -0.851865       -5.0           0   \n",
              "\n",
              "                     Day Seasonality  Year Seasonality  Pressure  \\\n",
              "Date                                                               \n",
              "2016-01-01 00:00:00    -1.407890e-12         -0.002666       990   \n",
              "2016-01-01 00:30:00     1.305262e-01         -0.002308       990   \n",
              "2016-01-01 01:00:00     2.588190e-01         -0.001950       990   \n",
              "2016-01-01 01:30:00     3.826834e-01         -0.001591       990   \n",
              "2016-01-01 02:00:00     5.000000e-01         -0.001233       990   \n",
              "\n",
              "                     Relative Humidity  Temperature  Solar Zenith Angle  GHI  \n",
              "Date                                                                          \n",
              "2016-01-01 00:00:00              49.00          5.0              168.95    0  \n",
              "2016-01-01 00:30:00              49.00          5.0              166.74    0  \n",
              "2016-01-01 01:00:00              48.97          5.0              162.23    0  \n",
              "2016-01-01 01:30:00              48.97          5.0              156.74    0  \n",
              "2016-01-01 02:00:00              48.98          5.0              150.83    0  "
            ],
            "text/html": [
              "\n",
              "  <div id=\"df-f5158c86-d010-43e6-b5e4-99c4fa21ecbe\">\n",
              "    <div class=\"colab-df-container\">\n",
              "      <div>\n",
              "<style scoped>\n",
              "    .dataframe tbody tr th:only-of-type {\n",
              "        vertical-align: middle;\n",
              "    }\n",
              "\n",
              "    .dataframe tbody tr th {\n",
              "        vertical-align: top;\n",
              "    }\n",
              "\n",
              "    .dataframe thead th {\n",
              "        text-align: right;\n",
              "    }\n",
              "</style>\n",
              "<table border=\"1\" class=\"dataframe\">\n",
              "  <thead>\n",
              "    <tr style=\"text-align: right;\">\n",
              "      <th></th>\n",
              "      <th>Wind_x</th>\n",
              "      <th>Wind_y</th>\n",
              "      <th>Dew Point</th>\n",
              "      <th>Cloud Type</th>\n",
              "      <th>Day Seasonality</th>\n",
              "      <th>Year Seasonality</th>\n",
              "      <th>Pressure</th>\n",
              "      <th>Relative Humidity</th>\n",
              "      <th>Temperature</th>\n",
              "      <th>Solar Zenith Angle</th>\n",
              "      <th>GHI</th>\n",
              "    </tr>\n",
              "    <tr>\n",
              "      <th>Date</th>\n",
              "      <th></th>\n",
              "      <th></th>\n",
              "      <th></th>\n",
              "      <th></th>\n",
              "      <th></th>\n",
              "      <th></th>\n",
              "      <th></th>\n",
              "      <th></th>\n",
              "      <th></th>\n",
              "      <th></th>\n",
              "      <th></th>\n",
              "    </tr>\n",
              "  </thead>\n",
              "  <tbody>\n",
              "    <tr>\n",
              "      <th>2016-01-01 00:00:00</th>\n",
              "      <td>-0.635439</td>\n",
              "      <td>-0.735724</td>\n",
              "      <td>-5.0</td>\n",
              "      <td>0</td>\n",
              "      <td>-1.407890e-12</td>\n",
              "      <td>-0.002666</td>\n",
              "      <td>990</td>\n",
              "      <td>49.00</td>\n",
              "      <td>5.0</td>\n",
              "      <td>168.95</td>\n",
              "      <td>0</td>\n",
              "    </tr>\n",
              "    <tr>\n",
              "      <th>2016-01-01 00:30:00</th>\n",
              "      <td>-0.635439</td>\n",
              "      <td>-0.735724</td>\n",
              "      <td>-5.0</td>\n",
              "      <td>0</td>\n",
              "      <td>1.305262e-01</td>\n",
              "      <td>-0.002308</td>\n",
              "      <td>990</td>\n",
              "      <td>49.00</td>\n",
              "      <td>5.0</td>\n",
              "      <td>166.74</td>\n",
              "      <td>0</td>\n",
              "    </tr>\n",
              "    <tr>\n",
              "      <th>2016-01-01 01:00:00</th>\n",
              "      <td>-0.558814</td>\n",
              "      <td>-0.795487</td>\n",
              "      <td>-5.0</td>\n",
              "      <td>0</td>\n",
              "      <td>2.588190e-01</td>\n",
              "      <td>-0.001950</td>\n",
              "      <td>990</td>\n",
              "      <td>48.97</td>\n",
              "      <td>5.0</td>\n",
              "      <td>162.23</td>\n",
              "      <td>0</td>\n",
              "    </tr>\n",
              "    <tr>\n",
              "      <th>2016-01-01 01:30:00</th>\n",
              "      <td>-0.558814</td>\n",
              "      <td>-0.795487</td>\n",
              "      <td>-5.0</td>\n",
              "      <td>0</td>\n",
              "      <td>3.826834e-01</td>\n",
              "      <td>-0.001591</td>\n",
              "      <td>990</td>\n",
              "      <td>48.97</td>\n",
              "      <td>5.0</td>\n",
              "      <td>156.74</td>\n",
              "      <td>0</td>\n",
              "    </tr>\n",
              "    <tr>\n",
              "      <th>2016-01-01 02:00:00</th>\n",
              "      <td>-0.479173</td>\n",
              "      <td>-0.851865</td>\n",
              "      <td>-5.0</td>\n",
              "      <td>0</td>\n",
              "      <td>5.000000e-01</td>\n",
              "      <td>-0.001233</td>\n",
              "      <td>990</td>\n",
              "      <td>48.98</td>\n",
              "      <td>5.0</td>\n",
              "      <td>150.83</td>\n",
              "      <td>0</td>\n",
              "    </tr>\n",
              "  </tbody>\n",
              "</table>\n",
              "</div>\n",
              "      <button class=\"colab-df-convert\" onclick=\"convertToInteractive('df-f5158c86-d010-43e6-b5e4-99c4fa21ecbe')\"\n",
              "              title=\"Convert this dataframe to an interactive table.\"\n",
              "              style=\"display:none;\">\n",
              "        \n",
              "  <svg xmlns=\"http://www.w3.org/2000/svg\" height=\"24px\"viewBox=\"0 0 24 24\"\n",
              "       width=\"24px\">\n",
              "    <path d=\"M0 0h24v24H0V0z\" fill=\"none\"/>\n",
              "    <path d=\"M18.56 5.44l.94 2.06.94-2.06 2.06-.94-2.06-.94-.94-2.06-.94 2.06-2.06.94zm-11 1L8.5 8.5l.94-2.06 2.06-.94-2.06-.94L8.5 2.5l-.94 2.06-2.06.94zm10 10l.94 2.06.94-2.06 2.06-.94-2.06-.94-.94-2.06-.94 2.06-2.06.94z\"/><path d=\"M17.41 7.96l-1.37-1.37c-.4-.4-.92-.59-1.43-.59-.52 0-1.04.2-1.43.59L10.3 9.45l-7.72 7.72c-.78.78-.78 2.05 0 2.83L4 21.41c.39.39.9.59 1.41.59.51 0 1.02-.2 1.41-.59l7.78-7.78 2.81-2.81c.8-.78.8-2.07 0-2.86zM5.41 20L4 18.59l7.72-7.72 1.47 1.35L5.41 20z\"/>\n",
              "  </svg>\n",
              "      </button>\n",
              "      \n",
              "  <style>\n",
              "    .colab-df-container {\n",
              "      display:flex;\n",
              "      flex-wrap:wrap;\n",
              "      gap: 12px;\n",
              "    }\n",
              "\n",
              "    .colab-df-convert {\n",
              "      background-color: #E8F0FE;\n",
              "      border: none;\n",
              "      border-radius: 50%;\n",
              "      cursor: pointer;\n",
              "      display: none;\n",
              "      fill: #1967D2;\n",
              "      height: 32px;\n",
              "      padding: 0 0 0 0;\n",
              "      width: 32px;\n",
              "    }\n",
              "\n",
              "    .colab-df-convert:hover {\n",
              "      background-color: #E2EBFA;\n",
              "      box-shadow: 0px 1px 2px rgba(60, 64, 67, 0.3), 0px 1px 3px 1px rgba(60, 64, 67, 0.15);\n",
              "      fill: #174EA6;\n",
              "    }\n",
              "\n",
              "    [theme=dark] .colab-df-convert {\n",
              "      background-color: #3B4455;\n",
              "      fill: #D2E3FC;\n",
              "    }\n",
              "\n",
              "    [theme=dark] .colab-df-convert:hover {\n",
              "      background-color: #434B5C;\n",
              "      box-shadow: 0px 1px 3px 1px rgba(0, 0, 0, 0.15);\n",
              "      filter: drop-shadow(0px 1px 2px rgba(0, 0, 0, 0.3));\n",
              "      fill: #FFFFFF;\n",
              "    }\n",
              "  </style>\n",
              "\n",
              "      <script>\n",
              "        const buttonEl =\n",
              "          document.querySelector('#df-f5158c86-d010-43e6-b5e4-99c4fa21ecbe button.colab-df-convert');\n",
              "        buttonEl.style.display =\n",
              "          google.colab.kernel.accessAllowed ? 'block' : 'none';\n",
              "\n",
              "        async function convertToInteractive(key) {\n",
              "          const element = document.querySelector('#df-f5158c86-d010-43e6-b5e4-99c4fa21ecbe');\n",
              "          const dataTable =\n",
              "            await google.colab.kernel.invokeFunction('convertToInteractive',\n",
              "                                                     [key], {});\n",
              "          if (!dataTable) return;\n",
              "\n",
              "          const docLinkHtml = 'Like what you see? Visit the ' +\n",
              "            '<a target=\"_blank\" href=https://colab.research.google.com/notebooks/data_table.ipynb>data table notebook</a>'\n",
              "            + ' to learn more about interactive tables.';\n",
              "          element.innerHTML = '';\n",
              "          dataTable['output_type'] = 'display_data';\n",
              "          await google.colab.output.renderOutput(dataTable, element);\n",
              "          const docLink = document.createElement('div');\n",
              "          docLink.innerHTML = docLinkHtml;\n",
              "          element.appendChild(docLink);\n",
              "        }\n",
              "      </script>\n",
              "    </div>\n",
              "  </div>\n",
              "  "
            ]
          },
          "metadata": {},
          "execution_count": 2
        }
      ],
      "source": [
        "df = pd.read_csv('./NSRDB_to_model.csv', index_col='datetime')\n",
        "df.index.name= 'Date'\n",
        "print(df.shape)\n",
        "df.head()"
      ]
    },
    {
      "cell_type": "code",
      "execution_count": 3,
      "id": "3fd2fede-f450-4387-8571-6307a64e93fd",
      "metadata": {
        "id": "3fd2fede-f450-4387-8571-6307a64e93fd"
      },
      "outputs": [],
      "source": [
        "new_cols = [col.lower().replace(' ', '_') for col in df.columns]\n",
        "df.columns = new_cols"
      ]
    },
    {
      "cell_type": "code",
      "execution_count": 4,
      "id": "443a0ca7-ed82-4b74-874c-d380ebb6b7e5",
      "metadata": {
        "colab": {
          "base_uri": "https://localhost:8080/",
          "height": 475
        },
        "id": "443a0ca7-ed82-4b74-874c-d380ebb6b7e5",
        "outputId": "b6376e3c-1221-41ba-92cb-3a7f2e7253c0"
      },
      "outputs": [
        {
          "output_type": "execute_result",
          "data": {
            "text/plain": [
              "                       wind_x    wind_y  dew_point  cloud_type  \\\n",
              "Date                                                             \n",
              "2016-01-01 00:00:00 -0.635439 -0.735724       -5.0           0   \n",
              "2016-01-01 00:30:00 -0.635439 -0.735724       -5.0           0   \n",
              "2016-01-01 01:00:00 -0.558814 -0.795487       -5.0           0   \n",
              "2016-01-01 01:30:00 -0.558814 -0.795487       -5.0           0   \n",
              "2016-01-01 02:00:00 -0.479173 -0.851865       -5.0           0   \n",
              "\n",
              "                     day_seasonality  year_seasonality  pressure  \\\n",
              "Date                                                               \n",
              "2016-01-01 00:00:00    -1.407890e-12         -0.002666       990   \n",
              "2016-01-01 00:30:00     1.305262e-01         -0.002308       990   \n",
              "2016-01-01 01:00:00     2.588190e-01         -0.001950       990   \n",
              "2016-01-01 01:30:00     3.826834e-01         -0.001591       990   \n",
              "2016-01-01 02:00:00     5.000000e-01         -0.001233       990   \n",
              "\n",
              "                     relative_humidity  temperature  solar_zenith_angle  ghi  \n",
              "Date                                                                          \n",
              "2016-01-01 00:00:00              49.00          5.0              168.95    0  \n",
              "2016-01-01 00:30:00              49.00          5.0              166.74    0  \n",
              "2016-01-01 01:00:00              48.97          5.0              162.23    0  \n",
              "2016-01-01 01:30:00              48.97          5.0              156.74    0  \n",
              "2016-01-01 02:00:00              48.98          5.0              150.83    0  "
            ],
            "text/html": [
              "\n",
              "  <div id=\"df-855d08a1-ee45-4ea3-b054-4067412c3649\">\n",
              "    <div class=\"colab-df-container\">\n",
              "      <div>\n",
              "<style scoped>\n",
              "    .dataframe tbody tr th:only-of-type {\n",
              "        vertical-align: middle;\n",
              "    }\n",
              "\n",
              "    .dataframe tbody tr th {\n",
              "        vertical-align: top;\n",
              "    }\n",
              "\n",
              "    .dataframe thead th {\n",
              "        text-align: right;\n",
              "    }\n",
              "</style>\n",
              "<table border=\"1\" class=\"dataframe\">\n",
              "  <thead>\n",
              "    <tr style=\"text-align: right;\">\n",
              "      <th></th>\n",
              "      <th>wind_x</th>\n",
              "      <th>wind_y</th>\n",
              "      <th>dew_point</th>\n",
              "      <th>cloud_type</th>\n",
              "      <th>day_seasonality</th>\n",
              "      <th>year_seasonality</th>\n",
              "      <th>pressure</th>\n",
              "      <th>relative_humidity</th>\n",
              "      <th>temperature</th>\n",
              "      <th>solar_zenith_angle</th>\n",
              "      <th>ghi</th>\n",
              "    </tr>\n",
              "    <tr>\n",
              "      <th>Date</th>\n",
              "      <th></th>\n",
              "      <th></th>\n",
              "      <th></th>\n",
              "      <th></th>\n",
              "      <th></th>\n",
              "      <th></th>\n",
              "      <th></th>\n",
              "      <th></th>\n",
              "      <th></th>\n",
              "      <th></th>\n",
              "      <th></th>\n",
              "    </tr>\n",
              "  </thead>\n",
              "  <tbody>\n",
              "    <tr>\n",
              "      <th>2016-01-01 00:00:00</th>\n",
              "      <td>-0.635439</td>\n",
              "      <td>-0.735724</td>\n",
              "      <td>-5.0</td>\n",
              "      <td>0</td>\n",
              "      <td>-1.407890e-12</td>\n",
              "      <td>-0.002666</td>\n",
              "      <td>990</td>\n",
              "      <td>49.00</td>\n",
              "      <td>5.0</td>\n",
              "      <td>168.95</td>\n",
              "      <td>0</td>\n",
              "    </tr>\n",
              "    <tr>\n",
              "      <th>2016-01-01 00:30:00</th>\n",
              "      <td>-0.635439</td>\n",
              "      <td>-0.735724</td>\n",
              "      <td>-5.0</td>\n",
              "      <td>0</td>\n",
              "      <td>1.305262e-01</td>\n",
              "      <td>-0.002308</td>\n",
              "      <td>990</td>\n",
              "      <td>49.00</td>\n",
              "      <td>5.0</td>\n",
              "      <td>166.74</td>\n",
              "      <td>0</td>\n",
              "    </tr>\n",
              "    <tr>\n",
              "      <th>2016-01-01 01:00:00</th>\n",
              "      <td>-0.558814</td>\n",
              "      <td>-0.795487</td>\n",
              "      <td>-5.0</td>\n",
              "      <td>0</td>\n",
              "      <td>2.588190e-01</td>\n",
              "      <td>-0.001950</td>\n",
              "      <td>990</td>\n",
              "      <td>48.97</td>\n",
              "      <td>5.0</td>\n",
              "      <td>162.23</td>\n",
              "      <td>0</td>\n",
              "    </tr>\n",
              "    <tr>\n",
              "      <th>2016-01-01 01:30:00</th>\n",
              "      <td>-0.558814</td>\n",
              "      <td>-0.795487</td>\n",
              "      <td>-5.0</td>\n",
              "      <td>0</td>\n",
              "      <td>3.826834e-01</td>\n",
              "      <td>-0.001591</td>\n",
              "      <td>990</td>\n",
              "      <td>48.97</td>\n",
              "      <td>5.0</td>\n",
              "      <td>156.74</td>\n",
              "      <td>0</td>\n",
              "    </tr>\n",
              "    <tr>\n",
              "      <th>2016-01-01 02:00:00</th>\n",
              "      <td>-0.479173</td>\n",
              "      <td>-0.851865</td>\n",
              "      <td>-5.0</td>\n",
              "      <td>0</td>\n",
              "      <td>5.000000e-01</td>\n",
              "      <td>-0.001233</td>\n",
              "      <td>990</td>\n",
              "      <td>48.98</td>\n",
              "      <td>5.0</td>\n",
              "      <td>150.83</td>\n",
              "      <td>0</td>\n",
              "    </tr>\n",
              "  </tbody>\n",
              "</table>\n",
              "</div>\n",
              "      <button class=\"colab-df-convert\" onclick=\"convertToInteractive('df-855d08a1-ee45-4ea3-b054-4067412c3649')\"\n",
              "              title=\"Convert this dataframe to an interactive table.\"\n",
              "              style=\"display:none;\">\n",
              "        \n",
              "  <svg xmlns=\"http://www.w3.org/2000/svg\" height=\"24px\"viewBox=\"0 0 24 24\"\n",
              "       width=\"24px\">\n",
              "    <path d=\"M0 0h24v24H0V0z\" fill=\"none\"/>\n",
              "    <path d=\"M18.56 5.44l.94 2.06.94-2.06 2.06-.94-2.06-.94-.94-2.06-.94 2.06-2.06.94zm-11 1L8.5 8.5l.94-2.06 2.06-.94-2.06-.94L8.5 2.5l-.94 2.06-2.06.94zm10 10l.94 2.06.94-2.06 2.06-.94-2.06-.94-.94-2.06-.94 2.06-2.06.94z\"/><path d=\"M17.41 7.96l-1.37-1.37c-.4-.4-.92-.59-1.43-.59-.52 0-1.04.2-1.43.59L10.3 9.45l-7.72 7.72c-.78.78-.78 2.05 0 2.83L4 21.41c.39.39.9.59 1.41.59.51 0 1.02-.2 1.41-.59l7.78-7.78 2.81-2.81c.8-.78.8-2.07 0-2.86zM5.41 20L4 18.59l7.72-7.72 1.47 1.35L5.41 20z\"/>\n",
              "  </svg>\n",
              "      </button>\n",
              "      \n",
              "  <style>\n",
              "    .colab-df-container {\n",
              "      display:flex;\n",
              "      flex-wrap:wrap;\n",
              "      gap: 12px;\n",
              "    }\n",
              "\n",
              "    .colab-df-convert {\n",
              "      background-color: #E8F0FE;\n",
              "      border: none;\n",
              "      border-radius: 50%;\n",
              "      cursor: pointer;\n",
              "      display: none;\n",
              "      fill: #1967D2;\n",
              "      height: 32px;\n",
              "      padding: 0 0 0 0;\n",
              "      width: 32px;\n",
              "    }\n",
              "\n",
              "    .colab-df-convert:hover {\n",
              "      background-color: #E2EBFA;\n",
              "      box-shadow: 0px 1px 2px rgba(60, 64, 67, 0.3), 0px 1px 3px 1px rgba(60, 64, 67, 0.15);\n",
              "      fill: #174EA6;\n",
              "    }\n",
              "\n",
              "    [theme=dark] .colab-df-convert {\n",
              "      background-color: #3B4455;\n",
              "      fill: #D2E3FC;\n",
              "    }\n",
              "\n",
              "    [theme=dark] .colab-df-convert:hover {\n",
              "      background-color: #434B5C;\n",
              "      box-shadow: 0px 1px 3px 1px rgba(0, 0, 0, 0.15);\n",
              "      filter: drop-shadow(0px 1px 2px rgba(0, 0, 0, 0.3));\n",
              "      fill: #FFFFFF;\n",
              "    }\n",
              "  </style>\n",
              "\n",
              "      <script>\n",
              "        const buttonEl =\n",
              "          document.querySelector('#df-855d08a1-ee45-4ea3-b054-4067412c3649 button.colab-df-convert');\n",
              "        buttonEl.style.display =\n",
              "          google.colab.kernel.accessAllowed ? 'block' : 'none';\n",
              "\n",
              "        async function convertToInteractive(key) {\n",
              "          const element = document.querySelector('#df-855d08a1-ee45-4ea3-b054-4067412c3649');\n",
              "          const dataTable =\n",
              "            await google.colab.kernel.invokeFunction('convertToInteractive',\n",
              "                                                     [key], {});\n",
              "          if (!dataTable) return;\n",
              "\n",
              "          const docLinkHtml = 'Like what you see? Visit the ' +\n",
              "            '<a target=\"_blank\" href=https://colab.research.google.com/notebooks/data_table.ipynb>data table notebook</a>'\n",
              "            + ' to learn more about interactive tables.';\n",
              "          element.innerHTML = '';\n",
              "          dataTable['output_type'] = 'display_data';\n",
              "          await google.colab.output.renderOutput(dataTable, element);\n",
              "          const docLink = document.createElement('div');\n",
              "          docLink.innerHTML = docLinkHtml;\n",
              "          element.appendChild(docLink);\n",
              "        }\n",
              "      </script>\n",
              "    </div>\n",
              "  </div>\n",
              "  "
            ]
          },
          "metadata": {},
          "execution_count": 4
        }
      ],
      "source": [
        "df.head()"
      ]
    },
    {
      "cell_type": "code",
      "execution_count": null,
      "id": "0ee10586-b42b-4515-859e-20ee2937107d",
      "metadata": {
        "colab": {
          "base_uri": "https://localhost:8080/"
        },
        "id": "0ee10586-b42b-4515-859e-20ee2937107d",
        "outputId": "f35d0819-dffb-4833-db53-4fcb7addd457"
      },
      "outputs": [
        {
          "output_type": "execute_result",
          "data": {
            "text/plain": [
              "wind_x                0\n",
              "wind_y                0\n",
              "dew_point             0\n",
              "cloud_type            0\n",
              "day_seasonality       0\n",
              "year_seasonality      0\n",
              "pressure              0\n",
              "relative_humidity     0\n",
              "temperature           0\n",
              "solar_zenith_angle    0\n",
              "ghi                   0\n",
              "dtype: int64"
            ]
          },
          "metadata": {},
          "execution_count": 6
        }
      ],
      "source": [
        "df.isnull().sum()"
      ]
    },
    {
      "cell_type": "code",
      "execution_count": null,
      "id": "2703678a-9f5c-47ab-b566-ed07fae2cc75",
      "metadata": {
        "colab": {
          "base_uri": "https://localhost:8080/"
        },
        "id": "2703678a-9f5c-47ab-b566-ed07fae2cc75",
        "outputId": "efcac8bd-bdac-4730-b722-5a140d517fdd"
      },
      "outputs": [
        {
          "output_type": "execute_result",
          "data": {
            "text/plain": [
              "Index(['wind_x', 'wind_y', 'dew_point', 'cloud_type', 'day_seasonality',\n",
              "       'year_seasonality', 'pressure', 'relative_humidity', 'temperature',\n",
              "       'solar_zenith_angle', 'ghi'],\n",
              "      dtype='object')"
            ]
          },
          "metadata": {},
          "execution_count": 7
        }
      ],
      "source": [
        "df.columns"
      ]
    },
    {
      "cell_type": "code",
      "execution_count": null,
      "id": "6f161c65-83d6-4049-8624-32979459e192",
      "metadata": {
        "id": "6f161c65-83d6-4049-8624-32979459e192"
      },
      "outputs": [],
      "source": [
        "features = ['temperature', 'wind_speed', 'pressure', 'solar_zenith_angle', 'relative_humidity', 'surface_albedo']"
      ]
    },
    {
      "cell_type": "code",
      "execution_count": 32,
      "id": "2c8c9938-431a-44c0-a22b-ea6f4eabb404",
      "metadata": {
        "id": "2c8c9938-431a-44c0-a22b-ea6f4eabb404"
      },
      "outputs": [],
      "source": [
        "X = df.drop(columns=['ghi'])\n",
        "y = df['ghi']"
      ]
    },
    {
      "cell_type": "code",
      "execution_count": null,
      "id": "76a88872-6189-4e7e-aef0-13db544e91ba",
      "metadata": {
        "id": "76a88872-6189-4e7e-aef0-13db544e91ba"
      },
      "outputs": [],
      "source": [
        "def stack_sequences(X, y):\n",
        "    X_list = []\n",
        "    scaler = MinMaxScaler(feature_range=(0, 1))\n",
        "    for col in X.columns:\n",
        "        x1 = X[col].values\n",
        "        x1 = x1.reshape(len(x1), 1)\n",
        "        x1_ss = scaler.fit_transform(x1)\n",
        "        X_list.append(x1_ss)\n",
        "    y1 = y.values\n",
        "    y1 = y1.reshape(len(y1), 1)\n",
        "    y1_ss = scaler.fit_transform(y1)\n",
        "    X_list.append(y1_ss)\n",
        "    \n",
        "    return np.hstack(X_list)"
      ]
    },
    {
      "cell_type": "code",
      "execution_count": null,
      "id": "d90fe1d5-9e50-4ae0-bec2-e0120aee441f",
      "metadata": {
        "id": "d90fe1d5-9e50-4ae0-bec2-e0120aee441f"
      },
      "outputs": [],
      "source": [
        "dataset_stacked = stack_sequences(X, y)"
      ]
    },
    {
      "cell_type": "code",
      "execution_count": 35,
      "id": "464f3d8d-9c7a-42e7-94c9-bb8b82258ff0",
      "metadata": {
        "id": "464f3d8d-9c7a-42e7-94c9-bb8b82258ff0",
        "colab": {
          "base_uri": "https://localhost:8080/"
        },
        "outputId": "60a3fa22-7ce6-4544-a94a-445be4d5394c"
      },
      "outputs": [
        {
          "output_type": "execute_result",
          "data": {
            "text/plain": [
              "(11,)"
            ]
          },
          "metadata": {},
          "execution_count": 35
        }
      ],
      "source": [
        "dataset_stacked[0].shape"
      ]
    },
    {
      "cell_type": "code",
      "execution_count": null,
      "id": "3479d8c2-55ca-4a95-9cce-aa2ab3aa248f",
      "metadata": {
        "colab": {
          "base_uri": "https://localhost:8080/"
        },
        "id": "3479d8c2-55ca-4a95-9cce-aa2ab3aa248f",
        "outputId": "cf13c53e-760d-4548-97d5-b78c6a437abf"
      },
      "outputs": [
        {
          "output_type": "stream",
          "name": "stdout",
          "text": [
            "X.shape (87530, 120, 10)\n",
            "y.shape (87530, 48)\n"
          ]
        }
      ],
      "source": [
        "# split a multivariate sequence into samples\n",
        "def split_sequences(sequences, n_steps_in, n_steps_out):\n",
        "    X, y = list(), list()\n",
        "    for i in range(len(sequences)):\n",
        "    # find the end of this pattern\n",
        "        end_ix = i + n_steps_in\n",
        "        out_end_ix = end_ix + n_steps_out-1\n",
        "    \n",
        "    # check if we are beyond the dataset\n",
        "        if out_end_ix > len(sequences):\n",
        "            break\n",
        "        \n",
        "    # gather input and output parts of the pattern\n",
        "        seq_x, seq_y = sequences[i:end_ix, :-1], sequences[end_ix-1:out_end_ix, -1]\n",
        "    \n",
        "        X.append(seq_x)\n",
        "        y.append(seq_y)\n",
        "    \n",
        "    return np.array(X), np.array(y)\n",
        "\n",
        "def split_sequences(sequences, n_steps_in, n_steps_out):\n",
        " X, y = list(), list()\n",
        " for i in range(len(sequences)):\n",
        "  # find the end of this pattern\n",
        "  end_ix = i + n_steps_in\n",
        "  out_end_ix = end_ix + n_steps_out-1\n",
        "  # check if we are beyond the dataset\n",
        "  if out_end_ix > len(sequences):\n",
        "   break\n",
        "  # gather input and output parts of the pattern\n",
        "  seq_x, seq_y = sequences[i:end_ix, :-1], sequences[end_ix-1:out_end_ix, -1]\n",
        "  X.append(seq_x)\n",
        "  y.append(seq_y)\n",
        " return np.array(X), np.array(y)\n",
        "\n",
        "# choose a number of time steps #change this accordingly\n",
        "n_steps_in, n_steps_out = 120, 48\n",
        "# covert into input/output\n",
        "X, y = split_sequences(dataset_stacked, n_steps_in, n_steps_out)\n",
        "print (\"X.shape\" , X.shape) \n",
        "print (\"y.shape\" , y.shape)"
      ]
    },
    {
      "cell_type": "code",
      "execution_count": null,
      "id": "11b6e4ed-ed52-4f38-b801-e84bfccb8ac4",
      "metadata": {
        "id": "11b6e4ed-ed52-4f38-b801-e84bfccb8ac4"
      },
      "outputs": [],
      "source": []
    },
    {
      "cell_type": "code",
      "execution_count": null,
      "id": "7a3caea2-1ae4-4950-8866-52c360f51535",
      "metadata": {
        "id": "7a3caea2-1ae4-4950-8866-52c360f51535"
      },
      "outputs": [],
      "source": [
        "X_train, X_test, y_train, y_test = train_test_split(X, y, shuffle=False, test_size = 0.2)"
      ]
    },
    {
      "cell_type": "code",
      "execution_count": null,
      "id": "dc61e082-9632-4dd9-9ff1-15e12ab6581d",
      "metadata": {
        "colab": {
          "base_uri": "https://localhost:8080/"
        },
        "id": "dc61e082-9632-4dd9-9ff1-15e12ab6581d",
        "outputId": "b2558cf2-6803-40f5-b75b-a35bb312991b"
      },
      "outputs": [
        {
          "output_type": "execute_result",
          "data": {
            "text/plain": [
              "(70024, 120, 10)"
            ]
          },
          "metadata": {},
          "execution_count": 14
        }
      ],
      "source": [
        "X_train.shape"
      ]
    },
    {
      "cell_type": "code",
      "execution_count": null,
      "id": "53b1be6f-3da6-40c1-8a3b-35da363e0fe5",
      "metadata": {
        "colab": {
          "base_uri": "https://localhost:8080/"
        },
        "id": "53b1be6f-3da6-40c1-8a3b-35da363e0fe5",
        "outputId": "ecfa63a9-9186-4303-ed8b-f6b7e278f725"
      },
      "outputs": [
        {
          "output_type": "execute_result",
          "data": {
            "text/plain": [
              "(70024, 48)"
            ]
          },
          "metadata": {},
          "execution_count": 15
        }
      ],
      "source": [
        "y_train.shape"
      ]
    },
    {
      "cell_type": "markdown",
      "id": "fd8fa0da-ba4f-4a95-bf6a-5204225e0173",
      "metadata": {
        "tags": [],
        "id": "fd8fa0da-ba4f-4a95-bf6a-5204225e0173"
      },
      "source": [
        "## WaveNet Model"
      ]
    },
    {
      "cell_type": "code",
      "execution_count": 3,
      "id": "4a9d7b1e-8739-4cbd-a4c9-5a1c0773d7ba",
      "metadata": {
        "id": "4a9d7b1e-8739-4cbd-a4c9-5a1c0773d7ba"
      },
      "outputs": [],
      "source": [
        "def univarite_sequence(n_steps_in, n_out, data):\n",
        "    X = list()\n",
        "    y = list()\n",
        "    for i in range(len(data)):\n",
        "        X.append(data[i:i+n_steps_in].values)\n",
        "        y.append(data[i+n_steps_in:i+(n_steps_in + n_out)].values)\n",
        "        if (i+n_steps_in+n_out) >= len(data):\n",
        "            break\n",
        "    return np.array(X), np.array(y)\n",
        "\n",
        "steps_in = 96\n",
        "steps_out = 96\n",
        "X_new, y_new = univarite_sequence(steps_in, steps_out, df)\n"
      ]
    },
    {
      "cell_type": "code",
      "execution_count": 4,
      "id": "a1ca0e7a-ebc3-429a-a15a-f7134200fdea",
      "metadata": {
        "id": "a1ca0e7a-ebc3-429a-a15a-f7134200fdea"
      },
      "outputs": [],
      "source": [
        "train_X, test_X, train_y, test_y = train_test_split(X_new, y_new, shuffle=False)"
      ]
    },
    {
      "cell_type": "code",
      "execution_count": null,
      "id": "7d656825-bbe2-48fc-933d-bd05f00b9b66",
      "metadata": {
        "id": "7d656825-bbe2-48fc-933d-bd05f00b9b66"
      },
      "outputs": [],
      "source": [
        "ms = MinMaxScaler()\n",
        "train_X_s = ms.fit_transform(train_X)\n",
        "test_X_s = ms.transform(test_X)\n",
        "\n",
        "m2 = MinMaxScaler()\n",
        "train_y_s = ms.fit_transform(train_y)\n",
        "test_y_s = ms.transform(test_y)\n"
      ]
    },
    {
      "cell_type": "code",
      "source": [
        "print(train_X.shape)\n",
        "print(train_y.shape)"
      ],
      "metadata": {
        "colab": {
          "base_uri": "https://localhost:8080/"
        },
        "id": "Ho68FQxrADVD",
        "outputId": "f9c32317-b031-4daa-ef7c-a37898856470"
      },
      "id": "Ho68FQxrADVD",
      "execution_count": 5,
      "outputs": [
        {
          "output_type": "stream",
          "name": "stdout",
          "text": [
            "(65412, 240, 11)\n",
            "(65412, 240, 11)\n"
          ]
        }
      ]
    },
    {
      "cell_type": "code",
      "execution_count": null,
      "id": "dcadab94-fed8-4381-83b7-4dbf140d32fc",
      "metadata": {
        "id": "dcadab94-fed8-4381-83b7-4dbf140d32fc",
        "outputId": "94ec6244-432d-4fa6-c605-855750113cd2"
      },
      "outputs": [
        {
          "data": {
            "text/plain": [
              "(12564, 720)"
            ]
          },
          "execution_count": 231,
          "metadata": {},
          "output_type": "execute_result"
        }
      ],
      "source": [
        "train_X_s.shape"
      ]
    },
    {
      "cell_type": "code",
      "execution_count": null,
      "id": "5338931b-0e54-4e56-9135-7ee318dba92f",
      "metadata": {
        "id": "5338931b-0e54-4e56-9135-7ee318dba92f"
      },
      "outputs": [],
      "source": [
        "train_X_s = np.array(train_X_s).reshape(len(train_X_s), steps_in, 1)\n",
        "test_X_s = np.array(test_X_s).reshape(len(test_X_s), steps_in, 1)\n",
        "train_y_s = np.array(train_y_s)\n",
        "test_y_s = np.array(test_y_s)"
      ]
    },
    {
      "cell_type": "code",
      "execution_count": 7,
      "id": "5ad56600-bd76-4179-806f-78e3ac6640c1",
      "metadata": {
        "id": "5ad56600-bd76-4179-806f-78e3ac6640c1"
      },
      "outputs": [],
      "source": [
        "train_X = np.array(train_X)# .reshape(len(train_X), steps_in,11,1)\n",
        "test_X = np.array(test_X)# .reshape(len(test_X), steps_in,11, 1)\n",
        "train_y = np.array(train_y)\n",
        "test_y = np.array(test_y)"
      ]
    },
    {
      "cell_type": "code",
      "execution_count": 5,
      "id": "4f7e3fe0-0f42-401c-80eb-436a59851bc1",
      "metadata": {
        "tags": [],
        "id": "4f7e3fe0-0f42-401c-80eb-436a59851bc1"
      },
      "outputs": [],
      "source": [
        "# source: https://github.com/ageron/handson-ml2/blob/master/15_processing_sequences_using_rnns_and_cnns.ipynb\n",
        "class GatedActivationUnit(keras.layers.Layer):\n",
        "    def __init__(self, activation=\"tanh\", **kwargs):\n",
        "        super().__init__(**kwargs)\n",
        "        self.activation = keras.activations.get(activation)\n",
        "        \n",
        "    def get_config(self):\n",
        "        config = super().get_config().copy()\n",
        "        config.update({\n",
        "            'activation': self.activation,\n",
        "        })\n",
        "        return config \n",
        "    \n",
        "    def call(self, inputs):\n",
        "        n_filters = inputs.shape[-1] // 2\n",
        "        linear_output = keras.activations.linear(inputs[..., :n_filters])\n",
        "        gate = keras.activations.sigmoid(inputs[..., n_filters:])\n",
        "        return self.activation(linear_output) * gate\n",
        "        \n",
        "\n",
        "def wavenet_residual_block(inputs, n_filters, dilation_rate):\n",
        "    z = keras.layers.Conv1D(2 * n_filters, kernel_size=2, padding=\"causal\",\n",
        "                            dilation_rate=dilation_rate)(inputs)\n",
        "    z = GatedActivationUnit()(z)\n",
        "    z = keras.layers.Conv1D(n_filters, kernel_size=1)(z)\n",
        "    return keras.layers.Add()([z, inputs]), z\n",
        "    \n",
        "\n",
        "def wavenet_model_setup(n_layers_per_block, n_blocks, n_filters, n_outputs, feature_dim, name, last_activation='relu'):\n",
        "    # n_layers_per_block = 10 in the paper\n",
        "    # n_blocks = 3 in the paper\n",
        "    # n_filters = 128 in the paper\n",
        "    # n_outputs = 256 in the paper\n",
        "    # last_activation determines the output codomain\n",
        "    train_size = 96\n",
        "    \n",
        "    inputs = keras.layers.Input(shape=[train_size, feature_dim])\n",
        "    z = keras.layers.Conv1D(n_filters, kernel_size=2, padding=\"causal\")(inputs)\n",
        "    skip_to_last = []\n",
        "    for dilation_rate in [2**i for i in range(n_layers_per_block)] * n_blocks:\n",
        "        z, skip = wavenet_residual_block(z, n_filters, dilation_rate)\n",
        "        skip_to_last.append(skip)\n",
        "    z = keras.activations.relu(keras.layers.Add()(skip_to_last))\n",
        "    z = keras.layers.Conv1D(n_filters, kernel_size=1, activation=\"relu\")(z)\n",
        "    out = keras.layers.Conv1D(feature_dim, kernel_size=1, activation=last_activation)(z)\n",
        "    #out = layers.Flatten()(out)\n",
        "    #out = Dense(n_outputs)(out)\n",
        "    return keras.models.Model(inputs=[inputs], outputs=[out], name = name)"
      ]
    },
    {
      "cell_type": "code",
      "execution_count": 6,
      "id": "646d139e-4f65-47f1-8552-c6ec717c6795",
      "metadata": {
        "id": "646d139e-4f65-47f1-8552-c6ec717c6795"
      },
      "outputs": [],
      "source": [
        "model_wave = wavenet_model_setup(7, 3, 128, 48, feature_dim=11, name='Wave', last_activation='linear')"
      ]
    },
    {
      "cell_type": "code",
      "execution_count": 7,
      "id": "503eea3a-d7f7-4298-a560-912d639679da",
      "metadata": {
        "colab": {
          "base_uri": "https://localhost:8080/"
        },
        "id": "503eea3a-d7f7-4298-a560-912d639679da",
        "outputId": "a8ffcce2-181c-41b3-a6d7-297975dd0fc7"
      },
      "outputs": [
        {
          "output_type": "stream",
          "name": "stdout",
          "text": [
            "Epoch 1/5\n",
            "2051/2051 [==============================] - 194s 79ms/step - loss: 2266.2866 - mae: 11.4311 - val_loss: 728.5274 - val_mae: 6.9806\n",
            "Epoch 2/5\n",
            "2051/2051 [==============================] - 147s 72ms/step - loss: 947.6600 - mae: 7.9674 - val_loss: 728.4163 - val_mae: 7.1017\n",
            "Epoch 3/5\n",
            "2051/2051 [==============================] - 148s 72ms/step - loss: 923.6883 - mae: 7.7527 - val_loss: 806.8503 - val_mae: 8.3307\n",
            "Epoch 4/5\n",
            "2051/2051 [==============================] - 153s 75ms/step - loss: 903.9752 - mae: 7.5695 - val_loss: 786.9404 - val_mae: 7.7965\n",
            "Epoch 5/5\n",
            "2051/2051 [==============================] - 156s 76ms/step - loss: 875.2422 - mae: 7.3732 - val_loss: 734.3542 - val_mae: 6.6130\n"
          ]
        }
      ],
      "source": [
        "model_wave.compile(loss=\"mse\", optimizer=\"adam\", metrics=['mae'])\n",
        "history_wave = model_wave.fit(train_X, train_y, epochs=5,\n",
        "                    validation_data=(test_X, test_y))"
      ]
    },
    {
      "cell_type": "code",
      "source": [
        "test_y.shape"
      ],
      "metadata": {
        "colab": {
          "base_uri": "https://localhost:8080/"
        },
        "id": "p2Fnp6Na7GgF",
        "outputId": "41df1b83-8330-464d-a138-622954b9bc9b"
      },
      "id": "p2Fnp6Na7GgF",
      "execution_count": 8,
      "outputs": [
        {
          "output_type": "execute_result",
          "data": {
            "text/plain": [
              "(21877, 96, 11)"
            ]
          },
          "metadata": {},
          "execution_count": 8
        }
      ]
    },
    {
      "cell_type": "code",
      "execution_count": null,
      "id": "584af124-bd71-4cc2-be16-c1dfad483318",
      "metadata": {
        "id": "584af124-bd71-4cc2-be16-c1dfad483318"
      },
      "outputs": [],
      "source": [
        "model_wave.summary"
      ]
    },
    {
      "cell_type": "code",
      "execution_count": 10,
      "id": "cfb782a5-cdb5-4d1e-a793-774cbbaaa31c",
      "metadata": {
        "id": "cfb782a5-cdb5-4d1e-a793-774cbbaaa31c",
        "outputId": "42784742-496c-4e27-9c6b-0a6a35b3fa73",
        "colab": {
          "base_uri": "https://localhost:8080/"
        }
      },
      "outputs": [
        {
          "output_type": "stream",
          "name": "stdout",
          "text": [
            "684/684 [==============================] - 18s 25ms/step\n"
          ]
        }
      ],
      "source": [
        "preds_wave = model_wave.predict(test_X)"
      ]
    },
    {
      "cell_type": "code",
      "source": [
        "preds_wave.shape"
      ],
      "metadata": {
        "colab": {
          "base_uri": "https://localhost:8080/"
        },
        "id": "aKQmyEstGZPJ",
        "outputId": "71bb2f2f-0c7f-412e-f18c-ab88f82442e1"
      },
      "id": "aKQmyEstGZPJ",
      "execution_count": 11,
      "outputs": [
        {
          "output_type": "execute_result",
          "data": {
            "text/plain": [
              "(21877, 96, 11)"
            ]
          },
          "metadata": {},
          "execution_count": 11
        }
      ]
    },
    {
      "cell_type": "code",
      "execution_count": 3,
      "id": "5847ef40-6612-4fef-9c11-3c1957753422",
      "metadata": {
        "id": "5847ef40-6612-4fef-9c11-3c1957753422",
        "outputId": "93d2cac4-9f6b-4195-b6d4-b1ddcd03be97",
        "colab": {
          "base_uri": "https://localhost:8080/",
          "height": 169
        }
      },
      "outputs": [
        {
          "output_type": "error",
          "ename": "NameError",
          "evalue": "ignored",
          "traceback": [
            "\u001b[0;31m---------------------------------------------------------------------------\u001b[0m",
            "\u001b[0;31mNameError\u001b[0m                                 Traceback (most recent call last)",
            "\u001b[0;32m<ipython-input-3-282b1f17c927>\u001b[0m in \u001b[0;36m<cell line: 1>\u001b[0;34m()\u001b[0m\n\u001b[0;32m----> 1\u001b[0;31m \u001b[0mr2_score\u001b[0m\u001b[0;34m(\u001b[0m\u001b[0mtest_y\u001b[0m\u001b[0;34m[\u001b[0m\u001b[0;34m:\u001b[0m\u001b[0;34m,\u001b[0m \u001b[0;34m-\u001b[0m\u001b[0;36m1\u001b[0m\u001b[0;34m,\u001b[0m \u001b[0;34m-\u001b[0m\u001b[0;36m1\u001b[0m\u001b[0;34m]\u001b[0m\u001b[0;34m,\u001b[0m \u001b[0mpreds_wave\u001b[0m\u001b[0;34m[\u001b[0m\u001b[0;34m:\u001b[0m\u001b[0;34m,\u001b[0m \u001b[0;34m-\u001b[0m\u001b[0;36m1\u001b[0m\u001b[0;34m,\u001b[0m \u001b[0;34m-\u001b[0m\u001b[0;36m1\u001b[0m\u001b[0;34m]\u001b[0m\u001b[0;34m)\u001b[0m\u001b[0;34m\u001b[0m\u001b[0;34m\u001b[0m\u001b[0m\n\u001b[0m",
            "\u001b[0;31mNameError\u001b[0m: name 'test_y' is not defined"
          ]
        }
      ],
      "source": [
        "r2_score(test_y[:, -1, -1], preds_wave[:, -1, -1])"
      ]
    },
    {
      "cell_type": "code",
      "execution_count": 17,
      "id": "61ff9fcd-0a71-4fc6-b816-85bddfa1b0cb",
      "metadata": {
        "id": "61ff9fcd-0a71-4fc6-b816-85bddfa1b0cb",
        "outputId": "be08aa80-8663-4284-ffab-a69d4fb140a9",
        "colab": {
          "base_uri": "https://localhost:8080/",
          "height": 676
        }
      },
      "outputs": [
        {
          "output_type": "display_data",
          "data": {
            "text/plain": [
              "<Figure size 1200x800 with 1 Axes>"
            ],
            "image/png": "[encoded data removed]"
          },
          "metadata": {}
        }
      ],
      "source": [
        "plt.figure(figsize=(12, 8))\n",
        "plt.plot(preds_wave[:, 0, -1][2000:3200], label='Predicted')\n",
        "plt.plot(test_y[:, 0, -1][2000:3200], label='Actual')\n",
        "plt.legend();"
      ]
    },
    {
      "cell_type": "code",
      "execution_count": null,
      "id": "a238d686-f95b-4f74-9fec-ad9d2b8944fe",
      "metadata": {
        "id": "a238d686-f95b-4f74-9fec-ad9d2b8944fe"
      },
      "outputs": [],
      "source": [
        "model_wave.summary()"
      ]
    },
    {
      "cell_type": "code",
      "execution_count": null,
      "id": "9e9e7cab-9779-437b-806c-0050693e15ba",
      "metadata": {
        "id": "9e9e7cab-9779-437b-806c-0050693e15ba"
      },
      "outputs": [],
      "source": [
        "class GatedActivationUnit(keras.layers.Layer):\n",
        "    def __init__(self, activation=\"tanh\", **kwargs):\n",
        "        super().__init__(**kwargs)\n",
        "        self.activation = keras.activations.get(activation)\n",
        "        \n",
        "    def get_config(self):\n",
        "        config = super().get_config().copy()\n",
        "        config.update({\n",
        "            'activation': self.activation,\n",
        "        })\n",
        "        return config \n",
        "    \n",
        "    def call(self, inputs):\n",
        "        n_filters = inputs.shape[-1] // 2\n",
        "        linear_output = keras.activation.linear(inputs[..., :n_filters])\n",
        "        gate = keras.activations.sigmoid(inputs[..., n_filters:])\n",
        "        return self.activation(linear_output) * gate\n",
        "        \n",
        "\n",
        "def wavenet_residual_block(inputs, n_filters, dilation_rate):\n",
        "    z = keras.layers.Conv1D(2 * n_filters, kernel_size=2, padding=\"causal\",\n",
        "                            dilation_rate=dilation_rate)(inputs)\n",
        "    z = GatedActivationUnit()(z)\n",
        "    z = keras.layers.Conv2D(n_filters, kernel_size=1)(z)\n",
        "    return keras.layers.Add()([z, inputs]), z\n",
        "    \n",
        "\n",
        "def wavenet_model_setup(n_layers_per_block, n_blocks, n_filters, n_outputs, feature_dim, name, last_activation='relu'):\n",
        "    # n_layers_per_block = 10 in the paper\n",
        "    # n_blocks = 3 in the paper\n",
        "    # n_filters = 128 in the paper\n",
        "    # n_outputs = 256 in the paper\n",
        "    # last_activation determines the output codomain\n",
        "    train_size = 120\n",
        "    \n",
        "    inputs = keras.layers.Input(shape=[train_size, feature_dim])\n",
        "    z = keras.layers.Conv2D(n_filters, kernel_size=2, padding=\"causal\")(inputs)\n",
        "    skip_to_last = []\n",
        "    for dilation_rate in [2**i for i in range(n_layers_per_block)] * n_blocks:\n",
        "        z, skip = wavenet_residual_block(z, n_filters, dilation_rate)\n",
        "        skip_to_last.append(skip)\n",
        "    z = keras.activations.relu(keras.layers.Add()(skip_to_last))\n",
        "    z = keras.layers.Conv2D(n_filters, kernel_size=1, activation=\"relu\")(z)\n",
        "    out = keras.layers.Conv2D(n_filters, kernel_size=1, activation=last_activation)(z)\n",
        "    out = layers.Flatten()(out)\n",
        "    out = Dense(n_outputs)(out)\n",
        "    return keras.models.Model(inputs=[inputs], outputs=[out], name = name)"
      ]
    }
  ],
  "metadata": {
    "kernelspec": {
      "display_name": "Python 3",
      "name": "python3"
    },
    "language_info": {
      "name": "python"
    },
    "colab": {
      "provenance": [],
      "gpuType": "T4"
    },
    "accelerator": "GPU",
    "gpuClass": "standard"
  },
  "nbformat": 4,
  "nbformat_minor": 5
}