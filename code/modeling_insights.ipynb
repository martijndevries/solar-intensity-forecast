{
 "cells": [
  {
   "cell_type": "markdown",
   "id": "9fe26952-e011-4017-a43a-d701e3354919",
   "metadata": {},
   "source": [
    "## Modeling Insights notebook\n",
    "This is the Modeling insights notebook for the Solar Forecasting Intensity project\n",
    "By: <br>\n",
    "Andres Aguilar  <br>\n",
    "Martijn de Vries<br>\n",
    "William Lopez<br>"
   ]
  },
  {
   "cell_type": "code",
   "execution_count": 15,
   "id": "bb7cbbd8-c383-4dec-8102-22b3afb68bbc",
   "metadata": {},
   "outputs": [],
   "source": [
    "import pandas as pd\n",
    "import numpy as np\n",
    "import seaborn as sns\n",
    "import matplotlib.pyplot as plt\n",
    "from sklearn.metrics import r2_score, mean_squared_error, mean_absolute_error"
   ]
  },
  {
   "cell_type": "markdown",
   "id": "a4074b5b-67e1-49ed-86b0-e28c754f3631",
   "metadata": {},
   "source": [
    "### Baseline Model\n",
    "\n",
    "To evaluate the success of our models, we establish the baseline model here, which we define as the GHI produced on an average day in the 5 year dataset\n",
    "\n",
    "First, we load in the data"
   ]
  },
  {
   "cell_type": "code",
   "execution_count": 6,
   "id": "58d7dbe1-aea7-49ae-b904-fd5133416f46",
   "metadata": {},
   "outputs": [
    {
     "data": {
      "text/html": [
       "<div>\n",
       "<style scoped>\n",
       "    .dataframe tbody tr th:only-of-type {\n",
       "        vertical-align: middle;\n",
       "    }\n",
       "\n",
       "    .dataframe tbody tr th {\n",
       "        vertical-align: top;\n",
       "    }\n",
       "\n",
       "    .dataframe thead th {\n",
       "        text-align: right;\n",
       "    }\n",
       "</style>\n",
       "<table border=\"1\" class=\"dataframe\">\n",
       "  <thead>\n",
       "    <tr style=\"text-align: right;\">\n",
       "      <th></th>\n",
       "      <th>datetime</th>\n",
       "      <th>Wind_x</th>\n",
       "      <th>Wind_y</th>\n",
       "      <th>Dew Point</th>\n",
       "      <th>Cloud Type</th>\n",
       "      <th>Day Seasonality</th>\n",
       "      <th>Year Seasonality</th>\n",
       "      <th>Pressure</th>\n",
       "      <th>Relative Humidity</th>\n",
       "      <th>Temperature</th>\n",
       "      <th>Solar Zenith Angle</th>\n",
       "      <th>GHI</th>\n",
       "    </tr>\n",
       "  </thead>\n",
       "  <tbody>\n",
       "    <tr>\n",
       "      <th>0</th>\n",
       "      <td>2016-01-01 00:00:00</td>\n",
       "      <td>-0.635439</td>\n",
       "      <td>-0.735724</td>\n",
       "      <td>-5.0</td>\n",
       "      <td>0</td>\n",
       "      <td>-1.407890e-12</td>\n",
       "      <td>-0.002666</td>\n",
       "      <td>990</td>\n",
       "      <td>49.00</td>\n",
       "      <td>5.0</td>\n",
       "      <td>168.95</td>\n",
       "      <td>0</td>\n",
       "    </tr>\n",
       "    <tr>\n",
       "      <th>1</th>\n",
       "      <td>2016-01-01 00:30:00</td>\n",
       "      <td>-0.635439</td>\n",
       "      <td>-0.735724</td>\n",
       "      <td>-5.0</td>\n",
       "      <td>0</td>\n",
       "      <td>1.305262e-01</td>\n",
       "      <td>-0.002308</td>\n",
       "      <td>990</td>\n",
       "      <td>49.00</td>\n",
       "      <td>5.0</td>\n",
       "      <td>166.74</td>\n",
       "      <td>0</td>\n",
       "    </tr>\n",
       "    <tr>\n",
       "      <th>2</th>\n",
       "      <td>2016-01-01 01:00:00</td>\n",
       "      <td>-0.558814</td>\n",
       "      <td>-0.795487</td>\n",
       "      <td>-5.0</td>\n",
       "      <td>0</td>\n",
       "      <td>2.588190e-01</td>\n",
       "      <td>-0.001950</td>\n",
       "      <td>990</td>\n",
       "      <td>48.97</td>\n",
       "      <td>5.0</td>\n",
       "      <td>162.23</td>\n",
       "      <td>0</td>\n",
       "    </tr>\n",
       "    <tr>\n",
       "      <th>3</th>\n",
       "      <td>2016-01-01 01:30:00</td>\n",
       "      <td>-0.558814</td>\n",
       "      <td>-0.795487</td>\n",
       "      <td>-5.0</td>\n",
       "      <td>0</td>\n",
       "      <td>3.826834e-01</td>\n",
       "      <td>-0.001591</td>\n",
       "      <td>990</td>\n",
       "      <td>48.97</td>\n",
       "      <td>5.0</td>\n",
       "      <td>156.74</td>\n",
       "      <td>0</td>\n",
       "    </tr>\n",
       "    <tr>\n",
       "      <th>4</th>\n",
       "      <td>2016-01-01 02:00:00</td>\n",
       "      <td>-0.479173</td>\n",
       "      <td>-0.851865</td>\n",
       "      <td>-5.0</td>\n",
       "      <td>0</td>\n",
       "      <td>5.000000e-01</td>\n",
       "      <td>-0.001233</td>\n",
       "      <td>990</td>\n",
       "      <td>48.98</td>\n",
       "      <td>5.0</td>\n",
       "      <td>150.83</td>\n",
       "      <td>0</td>\n",
       "    </tr>\n",
       "  </tbody>\n",
       "</table>\n",
       "</div>"
      ],
      "text/plain": [
       "              datetime    Wind_x    Wind_y  Dew Point  Cloud Type  \\\n",
       "0  2016-01-01 00:00:00 -0.635439 -0.735724       -5.0           0   \n",
       "1  2016-01-01 00:30:00 -0.635439 -0.735724       -5.0           0   \n",
       "2  2016-01-01 01:00:00 -0.558814 -0.795487       -5.0           0   \n",
       "3  2016-01-01 01:30:00 -0.558814 -0.795487       -5.0           0   \n",
       "4  2016-01-01 02:00:00 -0.479173 -0.851865       -5.0           0   \n",
       "\n",
       "   Day Seasonality  Year Seasonality  Pressure  Relative Humidity  \\\n",
       "0    -1.407890e-12         -0.002666       990              49.00   \n",
       "1     1.305262e-01         -0.002308       990              49.00   \n",
       "2     2.588190e-01         -0.001950       990              48.97   \n",
       "3     3.826834e-01         -0.001591       990              48.97   \n",
       "4     5.000000e-01         -0.001233       990              48.98   \n",
       "\n",
       "   Temperature  Solar Zenith Angle  GHI  \n",
       "0          5.0              168.95    0  \n",
       "1          5.0              166.74    0  \n",
       "2          5.0              162.23    0  \n",
       "3          5.0              156.74    0  \n",
       "4          5.0              150.83    0  "
      ]
     },
     "execution_count": 6,
     "metadata": {},
     "output_type": "execute_result"
    }
   ],
   "source": [
    "df = pd.read_csv('../data/NSRDB_to_model.csv')\n",
    "df.head()"
   ]
  },
  {
   "cell_type": "markdown",
   "id": "b158490e-fd1e-4c03-99a6-c017586ef699",
   "metadata": {},
   "source": [
    "Now we need to calculate the GHI curve of an average day. We can do this by folding the series every 48 timesteps (=1 day)"
   ]
  },
  {
   "cell_type": "code",
   "execution_count": 26,
   "id": "2b331207-7c42-4ce0-abf2-f1b963627c13",
   "metadata": {},
   "outputs": [],
   "source": [
    "def calc_average_GHIcurve(ghi, ts=48):\n",
    "    \"\"\"\n",
    "    Given a series of GHI values and the number of observations in a single day\n",
    "    calculate the average daily GHI curve \n",
    "    Returns:\n",
    "        average curve, with the same length as the input dataset\n",
    "    \"\"\"\n",
    "    glen = len(ghi)\n",
    "    ndays = glen//ts\n",
    "    ghi_arr = np.zeros((ts, ndays))\n",
    "    for i in range(ndays):\n",
    "        ghi_arr[:,i] = ghi[i*ts:(i+1)*ts]\n",
    "    return np.array(list(np.mean(ghi_arr, axis=1))* ndays)"
   ]
  },
  {
   "cell_type": "code",
   "execution_count": 27,
   "id": "3ebd9bbd-fda1-4380-b89e-c87bdc5a446b",
   "metadata": {},
   "outputs": [],
   "source": [
    "avg_ghi = calc_average_GHIcurve(df['GHI'])"
   ]
  },
  {
   "cell_type": "markdown",
   "id": "d4f97f81-c6f0-4496-8624-10272c343a65",
   "metadata": {},
   "source": [
    "Let's plot the average curve"
   ]
  },
  {
   "cell_type": "code",
   "execution_count": 36,
   "id": "bdc7fce3-4643-401d-b25f-1f9c808d74d9",
   "metadata": {},
   "outputs": [
    {
     "data": {
      "image/png": "[encoded data removed]",
      "text/plain": [
       "<Figure size 600x400 with 1 Axes>"
      ]
     },
     "metadata": {},
     "output_type": "display_data"
    }
   ],
   "source": [
    "time = np.arange(0, 24, 0.5)\n",
    "fig, ax = plt.subplots(figsize=(6, 4))\n",
    "ax.plot(time, avg_ghi[:48])\n",
    "ax.set_xlabel('Hour', fontsize=14)\n",
    "ax.set_ylabel('GHI', fontsize=14)\n",
    "ax.set_title('Daily-average GHI curve', fontsize=14, fontweight='bold');"
   ]
  },
  {
   "cell_type": "markdown",
   "id": "2530980f-f3b2-40c5-8199-b8ffd2b00003",
   "metadata": {},
   "source": [
    "Now we can establish the root mean squared error and mean absolute error for the baseline model.\n",
    "\n",
    "First, we'll need to again filter out points where the solar zenith angle is above 90 degrees"
   ]
  },
  {
   "cell_type": "code",
   "execution_count": 41,
   "id": "c4de35f1-1a93-4d05-bc2a-dac77bee88eb",
   "metadata": {},
   "outputs": [],
   "source": [
    "idx = np.where(df['Solar Zenith Angle'] < 90)\n",
    "ghi_filt = df['GHI'].iloc[idx]\n",
    "avg_ghi_filt = avg_ghi[idx]"
   ]
  },
  {
   "cell_type": "code",
   "execution_count": 42,
   "id": "9f3e1f25-dc0f-4d04-a03e-7af69a21f6d2",
   "metadata": {},
   "outputs": [
    {
     "name": "stdout",
     "output_type": "stream",
     "text": [
      "The Root mean squared error for the baseline model is 198.4 GHI\n",
      "The mean absolute error for the baseline model is 160.68 GHI\n"
     ]
    }
   ],
   "source": [
    "rmse_base = mean_squared_error(ghi_filt, avg_ghi_filt, squared=False)\n",
    "mae_base = mean_absolute_error(ghi_filt, avg_ghi_filt)\n",
    "\n",
    "print(f'The Root mean squared error for the baseline model is {round(rmse_base,2)} GHI')\n",
    "print(f'The mean absolute error for the baseline model is {round(mae_base,2)} GHI')"
   ]
  },
  {
   "cell_type": "code",
   "execution_count": null,
   "id": "0ff3bba0-a888-46cb-86a3-59cb68f10d92",
   "metadata": {},
   "outputs": [],
   "source": []
  }
 ],
 "metadata": {
  "kernelspec": {
   "display_name": "Python 3 (ipykernel)",
   "language": "python",
   "name": "python3"
  },
  "language_info": {
   "codemirror_mode": {
    "name": "ipython",
    "version": 3
   },
   "file_extension": ".py",
   "mimetype": "text/x-python",
   "name": "python",
   "nbconvert_exporter": "python",
   "pygments_lexer": "ipython3",
   "version": "3.8.8"
  }
 },
 "nbformat": 4,
 "nbformat_minor": 5
}
