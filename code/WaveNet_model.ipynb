{
  "cells": [
    {
      "cell_type": "code",
      "execution_count": 3,
      "id": "4c343c2f-1d8f-4cdc-a1cd-ca4183d37142",
      "metadata": {
        "id": "4c343c2f-1d8f-4cdc-a1cd-ca4183d37142"
      },
      "outputs": [],
      "source": [
        "import pandas as pd\n",
        "import numpy as np\n",
        "\n",
        "from sklearn.preprocessing import StandardScaler, MinMaxScaler\n",
        "from sklearn.model_selection import train_test_split\n",
        "from sklearn.metrics import mean_squared_error as mse, mean_absolute_error as mae\n",
        "\n",
        "from tensorflow.keras.models import Sequential\n",
        "from tensorflow.keras.layers import Dense, Dropout, GRU, Conv1D, TimeDistributed, LSTM\n",
        "from tensorflow.keras import layers\n",
        "from tensorflow import keras\n",
        "from tensorflow.keras.optimizers import Adam, Nadam\n",
        "from tensorflow.keras.preprocessing.sequence import TimeseriesGenerator\n",
        "from tensorflow.keras.regularizers import l2\n",
        "\n",
        "import matplotlib.pyplot as plt\n",
        "np.random.seed(42)"
      ]
    },
    {
      "cell_type": "code",
      "source": [
        "# Use for Google colab after uploading NSRDB_to_model.csv dataset\n",
        "df = pd.read_csv('./NSRDB_to_model.csv', index_col='datetime')\n",
        "df.index.name= 'Date'\n",
        "print(df.shape)\n",
        "df.head()"
      ],
      "metadata": {
        "colab": {
          "base_uri": "https://localhost:8080/",
          "height": 508
        },
        "id": "dK7SG6gxAjcZ",
        "outputId": "ff493226-e65f-418e-d593-5e23fd2317a4"
      },
      "id": "dK7SG6gxAjcZ",
      "execution_count": 4,
      "outputs": [
        {
          "output_type": "stream",
          "name": "stdout",
          "text": [
            "(87696, 11)\n"
          ]
        },
        {
          "output_type": "execute_result",
          "data": {
            "text/plain": [
              "                       Wind_x    Wind_y  Dew Point  Cloud Type  \\\n",
              "Date                                                             \n",
              "2016-01-01 00:00:00 -0.635439 -0.735724       -5.0           0   \n",
              "2016-01-01 00:30:00 -0.635439 -0.735724       -5.0           0   \n",
              "2016-01-01 01:00:00 -0.558814 -0.795487       -5.0           0   \n",
              "2016-01-01 01:30:00 -0.558814 -0.795487       -5.0           0   \n",
              "2016-01-01 02:00:00 -0.479173 -0.851865       -5.0           0   \n",
              "\n",
              "                     Day Seasonality  Year Seasonality  Pressure  \\\n",
              "Date                                                               \n",
              "2016-01-01 00:00:00    -1.407890e-12         -0.002666       990   \n",
              "2016-01-01 00:30:00     1.305262e-01         -0.002308       990   \n",
              "2016-01-01 01:00:00     2.588190e-01         -0.001950       990   \n",
              "2016-01-01 01:30:00     3.826834e-01         -0.001591       990   \n",
              "2016-01-01 02:00:00     5.000000e-01         -0.001233       990   \n",
              "\n",
              "                     Relative Humidity  Temperature  Solar Zenith Angle  GHI  \n",
              "Date                                                                          \n",
              "2016-01-01 00:00:00              49.00          5.0              168.95    0  \n",
              "2016-01-01 00:30:00              49.00          5.0              166.74    0  \n",
              "2016-01-01 01:00:00              48.97          5.0              162.23    0  \n",
              "2016-01-01 01:30:00              48.97          5.0              156.74    0  \n",
              "2016-01-01 02:00:00              48.98          5.0              150.83    0  "
            ],
            "text/html": [
              "\n",
              "  <div id=\"df-dc5e0f17-d1e0-4233-969f-020c5177d8c3\">\n",
              "    <div class=\"colab-df-container\">\n",
              "      <div>\n",
              "<style scoped>\n",
              "    .dataframe tbody tr th:only-of-type {\n",
              "        vertical-align: middle;\n",
              "    }\n",
              "\n",
              "    .dataframe tbody tr th {\n",
              "        vertical-align: top;\n",
              "    }\n",
              "\n",
              "    .dataframe thead th {\n",
              "        text-align: right;\n",
              "    }\n",
              "</style>\n",
              "<table border=\"1\" class=\"dataframe\">\n",
              "  <thead>\n",
              "    <tr style=\"text-align: right;\">\n",
              "      <th></th>\n",
              "      <th>Wind_x</th>\n",
              "      <th>Wind_y</th>\n",
              "      <th>Dew Point</th>\n",
              "      <th>Cloud Type</th>\n",
              "      <th>Day Seasonality</th>\n",
              "      <th>Year Seasonality</th>\n",
              "      <th>Pressure</th>\n",
              "      <th>Relative Humidity</th>\n",
              "      <th>Temperature</th>\n",
              "      <th>Solar Zenith Angle</th>\n",
              "      <th>GHI</th>\n",
              "    </tr>\n",
              "    <tr>\n",
              "      <th>Date</th>\n",
              "      <th></th>\n",
              "      <th></th>\n",
              "      <th></th>\n",
              "      <th></th>\n",
              "      <th></th>\n",
              "      <th></th>\n",
              "      <th></th>\n",
              "      <th></th>\n",
              "      <th></th>\n",
              "      <th></th>\n",
              "      <th></th>\n",
              "    </tr>\n",
              "  </thead>\n",
              "  <tbody>\n",
              "    <tr>\n",
              "      <th>2016-01-01 00:00:00</th>\n",
              "      <td>-0.635439</td>\n",
              "      <td>-0.735724</td>\n",
              "      <td>-5.0</td>\n",
              "      <td>0</td>\n",
              "      <td>-1.407890e-12</td>\n",
              "      <td>-0.002666</td>\n",
              "      <td>990</td>\n",
              "      <td>49.00</td>\n",
              "      <td>5.0</td>\n",
              "      <td>168.95</td>\n",
              "      <td>0</td>\n",
              "    </tr>\n",
              "    <tr>\n",
              "      <th>2016-01-01 00:30:00</th>\n",
              "      <td>-0.635439</td>\n",
              "      <td>-0.735724</td>\n",
              "      <td>-5.0</td>\n",
              "      <td>0</td>\n",
              "      <td>1.305262e-01</td>\n",
              "      <td>-0.002308</td>\n",
              "      <td>990</td>\n",
              "      <td>49.00</td>\n",
              "      <td>5.0</td>\n",
              "      <td>166.74</td>\n",
              "      <td>0</td>\n",
              "    </tr>\n",
              "    <tr>\n",
              "      <th>2016-01-01 01:00:00</th>\n",
              "      <td>-0.558814</td>\n",
              "      <td>-0.795487</td>\n",
              "      <td>-5.0</td>\n",
              "      <td>0</td>\n",
              "      <td>2.588190e-01</td>\n",
              "      <td>-0.001950</td>\n",
              "      <td>990</td>\n",
              "      <td>48.97</td>\n",
              "      <td>5.0</td>\n",
              "      <td>162.23</td>\n",
              "      <td>0</td>\n",
              "    </tr>\n",
              "    <tr>\n",
              "      <th>2016-01-01 01:30:00</th>\n",
              "      <td>-0.558814</td>\n",
              "      <td>-0.795487</td>\n",
              "      <td>-5.0</td>\n",
              "      <td>0</td>\n",
              "      <td>3.826834e-01</td>\n",
              "      <td>-0.001591</td>\n",
              "      <td>990</td>\n",
              "      <td>48.97</td>\n",
              "      <td>5.0</td>\n",
              "      <td>156.74</td>\n",
              "      <td>0</td>\n",
              "    </tr>\n",
              "    <tr>\n",
              "      <th>2016-01-01 02:00:00</th>\n",
              "      <td>-0.479173</td>\n",
              "      <td>-0.851865</td>\n",
              "      <td>-5.0</td>\n",
              "      <td>0</td>\n",
              "      <td>5.000000e-01</td>\n",
              "      <td>-0.001233</td>\n",
              "      <td>990</td>\n",
              "      <td>48.98</td>\n",
              "      <td>5.0</td>\n",
              "      <td>150.83</td>\n",
              "      <td>0</td>\n",
              "    </tr>\n",
              "  </tbody>\n",
              "</table>\n",
              "</div>\n",
              "      <button class=\"colab-df-convert\" onclick=\"convertToInteractive('df-dc5e0f17-d1e0-4233-969f-020c5177d8c3')\"\n",
              "              title=\"Convert this dataframe to an interactive table.\"\n",
              "              style=\"display:none;\">\n",
              "        \n",
              "  <svg xmlns=\"http://www.w3.org/2000/svg\" height=\"24px\"viewBox=\"0 0 24 24\"\n",
              "       width=\"24px\">\n",
              "    <path d=\"M0 0h24v24H0V0z\" fill=\"none\"/>\n",
              "    <path d=\"M18.56 5.44l.94 2.06.94-2.06 2.06-.94-2.06-.94-.94-2.06-.94 2.06-2.06.94zm-11 1L8.5 8.5l.94-2.06 2.06-.94-2.06-.94L8.5 2.5l-.94 2.06-2.06.94zm10 10l.94 2.06.94-2.06 2.06-.94-2.06-.94-.94-2.06-.94 2.06-2.06.94z\"/><path d=\"M17.41 7.96l-1.37-1.37c-.4-.4-.92-.59-1.43-.59-.52 0-1.04.2-1.43.59L10.3 9.45l-7.72 7.72c-.78.78-.78 2.05 0 2.83L4 21.41c.39.39.9.59 1.41.59.51 0 1.02-.2 1.41-.59l7.78-7.78 2.81-2.81c.8-.78.8-2.07 0-2.86zM5.41 20L4 18.59l7.72-7.72 1.47 1.35L5.41 20z\"/>\n",
              "  </svg>\n",
              "      </button>\n",
              "      \n",
              "  <style>\n",
              "    .colab-df-container {\n",
              "      display:flex;\n",
              "      flex-wrap:wrap;\n",
              "      gap: 12px;\n",
              "    }\n",
              "\n",
              "    .colab-df-convert {\n",
              "      background-color: #E8F0FE;\n",
              "      border: none;\n",
              "      border-radius: 50%;\n",
              "      cursor: pointer;\n",
              "      display: none;\n",
              "      fill: #1967D2;\n",
              "      height: 32px;\n",
              "      padding: 0 0 0 0;\n",
              "      width: 32px;\n",
              "    }\n",
              "\n",
              "    .colab-df-convert:hover {\n",
              "      background-color: #E2EBFA;\n",
              "      box-shadow: 0px 1px 2px rgba(60, 64, 67, 0.3), 0px 1px 3px 1px rgba(60, 64, 67, 0.15);\n",
              "      fill: #174EA6;\n",
              "    }\n",
              "\n",
              "    [theme=dark] .colab-df-convert {\n",
              "      background-color: #3B4455;\n",
              "      fill: #D2E3FC;\n",
              "    }\n",
              "\n",
              "    [theme=dark] .colab-df-convert:hover {\n",
              "      background-color: #434B5C;\n",
              "      box-shadow: 0px 1px 3px 1px rgba(0, 0, 0, 0.15);\n",
              "      filter: drop-shadow(0px 1px 2px rgba(0, 0, 0, 0.3));\n",
              "      fill: #FFFFFF;\n",
              "    }\n",
              "  </style>\n",
              "\n",
              "      <script>\n",
              "        const buttonEl =\n",
              "          document.querySelector('#df-dc5e0f17-d1e0-4233-969f-020c5177d8c3 button.colab-df-convert');\n",
              "        buttonEl.style.display =\n",
              "          google.colab.kernel.accessAllowed ? 'block' : 'none';\n",
              "\n",
              "        async function convertToInteractive(key) {\n",
              "          const element = document.querySelector('#df-dc5e0f17-d1e0-4233-969f-020c5177d8c3');\n",
              "          const dataTable =\n",
              "            await google.colab.kernel.invokeFunction('convertToInteractive',\n",
              "                                                     [key], {});\n",
              "          if (!dataTable) return;\n",
              "\n",
              "          const docLinkHtml = 'Like what you see? Visit the ' +\n",
              "            '<a target=\"_blank\" href=https://colab.research.google.com/notebooks/data_table.ipynb>data table notebook</a>'\n",
              "            + ' to learn more about interactive tables.';\n",
              "          element.innerHTML = '';\n",
              "          dataTable['output_type'] = 'display_data';\n",
              "          await google.colab.output.renderOutput(dataTable, element);\n",
              "          const docLink = document.createElement('div');\n",
              "          docLink.innerHTML = docLinkHtml;\n",
              "          element.appendChild(docLink);\n",
              "        }\n",
              "      </script>\n",
              "    </div>\n",
              "  </div>\n",
              "  "
            ]
          },
          "metadata": {},
          "execution_count": 4
        }
      ]
    },
    {
      "cell_type": "code",
      "execution_count": null,
      "id": "be55c35a-ac77-4edb-a400-90caeb2f25bc",
      "metadata": {
        "colab": {
          "base_uri": "https://localhost:8080/",
          "height": 404
        },
        "id": "be55c35a-ac77-4edb-a400-90caeb2f25bc",
        "outputId": "2bc5544c-db0b-46c0-99aa-a2ce79a166f5"
      },
      "outputs": [
        {
          "name": "stdout",
          "output_type": "stream",
          "text": [
            "(87696, 11)\n"
          ]
        },
        {
          "data": {
            "text/html": [
              "<div>\n",
              "<style scoped>\n",
              "    .dataframe tbody tr th:only-of-type {\n",
              "        vertical-align: middle;\n",
              "    }\n",
              "\n",
              "    .dataframe tbody tr th {\n",
              "        vertical-align: top;\n",
              "    }\n",
              "\n",
              "    .dataframe thead th {\n",
              "        text-align: right;\n",
              "    }\n",
              "</style>\n",
              "<table border=\"1\" class=\"dataframe\">\n",
              "  <thead>\n",
              "    <tr style=\"text-align: right;\">\n",
              "      <th></th>\n",
              "      <th>Wind_x</th>\n",
              "      <th>Wind_y</th>\n",
              "      <th>Dew Point</th>\n",
              "      <th>Cloud Type</th>\n",
              "      <th>Day Seasonality</th>\n",
              "      <th>Year Seasonality</th>\n",
              "      <th>Pressure</th>\n",
              "      <th>Relative Humidity</th>\n",
              "      <th>Temperature</th>\n",
              "      <th>Solar Zenith Angle</th>\n",
              "      <th>GHI</th>\n",
              "    </tr>\n",
              "    <tr>\n",
              "      <th>Date</th>\n",
              "      <th></th>\n",
              "      <th></th>\n",
              "      <th></th>\n",
              "      <th></th>\n",
              "      <th></th>\n",
              "      <th></th>\n",
              "      <th></th>\n",
              "      <th></th>\n",
              "      <th></th>\n",
              "      <th></th>\n",
              "      <th></th>\n",
              "    </tr>\n",
              "  </thead>\n",
              "  <tbody>\n",
              "    <tr>\n",
              "      <th>2016-01-01 00:00:00</th>\n",
              "      <td>-0.635439</td>\n",
              "      <td>-0.735724</td>\n",
              "      <td>-5.0</td>\n",
              "      <td>0</td>\n",
              "      <td>-1.407890e-12</td>\n",
              "      <td>-0.002666</td>\n",
              "      <td>990</td>\n",
              "      <td>49.00</td>\n",
              "      <td>5.0</td>\n",
              "      <td>168.95</td>\n",
              "      <td>0</td>\n",
              "    </tr>\n",
              "    <tr>\n",
              "      <th>2016-01-01 00:30:00</th>\n",
              "      <td>-0.635439</td>\n",
              "      <td>-0.735724</td>\n",
              "      <td>-5.0</td>\n",
              "      <td>0</td>\n",
              "      <td>1.305262e-01</td>\n",
              "      <td>-0.002308</td>\n",
              "      <td>990</td>\n",
              "      <td>49.00</td>\n",
              "      <td>5.0</td>\n",
              "      <td>166.74</td>\n",
              "      <td>0</td>\n",
              "    </tr>\n",
              "    <tr>\n",
              "      <th>2016-01-01 01:00:00</th>\n",
              "      <td>-0.558814</td>\n",
              "      <td>-0.795487</td>\n",
              "      <td>-5.0</td>\n",
              "      <td>0</td>\n",
              "      <td>2.588190e-01</td>\n",
              "      <td>-0.001950</td>\n",
              "      <td>990</td>\n",
              "      <td>48.97</td>\n",
              "      <td>5.0</td>\n",
              "      <td>162.23</td>\n",
              "      <td>0</td>\n",
              "    </tr>\n",
              "    <tr>\n",
              "      <th>2016-01-01 01:30:00</th>\n",
              "      <td>-0.558814</td>\n",
              "      <td>-0.795487</td>\n",
              "      <td>-5.0</td>\n",
              "      <td>0</td>\n",
              "      <td>3.826834e-01</td>\n",
              "      <td>-0.001591</td>\n",
              "      <td>990</td>\n",
              "      <td>48.97</td>\n",
              "      <td>5.0</td>\n",
              "      <td>156.74</td>\n",
              "      <td>0</td>\n",
              "    </tr>\n",
              "    <tr>\n",
              "      <th>2016-01-01 02:00:00</th>\n",
              "      <td>-0.479173</td>\n",
              "      <td>-0.851865</td>\n",
              "      <td>-5.0</td>\n",
              "      <td>0</td>\n",
              "      <td>5.000000e-01</td>\n",
              "      <td>-0.001233</td>\n",
              "      <td>990</td>\n",
              "      <td>48.98</td>\n",
              "      <td>5.0</td>\n",
              "      <td>150.83</td>\n",
              "      <td>0</td>\n",
              "    </tr>\n",
              "  </tbody>\n",
              "</table>\n",
              "</div>"
            ],
            "text/plain": [
              "                       Wind_x    Wind_y  Dew Point  Cloud Type  \\\n",
              "Date                                                             \n",
              "2016-01-01 00:00:00 -0.635439 -0.735724       -5.0           0   \n",
              "2016-01-01 00:30:00 -0.635439 -0.735724       -5.0           0   \n",
              "2016-01-01 01:00:00 -0.558814 -0.795487       -5.0           0   \n",
              "2016-01-01 01:30:00 -0.558814 -0.795487       -5.0           0   \n",
              "2016-01-01 02:00:00 -0.479173 -0.851865       -5.0           0   \n",
              "\n",
              "                     Day Seasonality  Year Seasonality  Pressure  \\\n",
              "Date                                                               \n",
              "2016-01-01 00:00:00    -1.407890e-12         -0.002666       990   \n",
              "2016-01-01 00:30:00     1.305262e-01         -0.002308       990   \n",
              "2016-01-01 01:00:00     2.588190e-01         -0.001950       990   \n",
              "2016-01-01 01:30:00     3.826834e-01         -0.001591       990   \n",
              "2016-01-01 02:00:00     5.000000e-01         -0.001233       990   \n",
              "\n",
              "                     Relative Humidity  Temperature  Solar Zenith Angle  GHI  \n",
              "Date                                                                          \n",
              "2016-01-01 00:00:00              49.00          5.0              168.95    0  \n",
              "2016-01-01 00:30:00              49.00          5.0              166.74    0  \n",
              "2016-01-01 01:00:00              48.97          5.0              162.23    0  \n",
              "2016-01-01 01:30:00              48.97          5.0              156.74    0  \n",
              "2016-01-01 02:00:00              48.98          5.0              150.83    0  "
            ]
          },
          "execution_count": 3,
          "metadata": {},
          "output_type": "execute_result"
        }
      ],
      "source": [
        "df = pd.read_csv('../data/NSRDB_to_model.csv', index_col='datetime')\n",
        "df.index.name= 'Date'\n",
        "print(df.shape)\n",
        "df.head()"
      ]
    },
    {
      "cell_type": "markdown",
      "id": "d8ce8531-3f9a-4626-a6c2-81e15cd0ada7",
      "metadata": {
        "id": "d8ce8531-3f9a-4626-a6c2-81e15cd0ada7"
      },
      "source": [
        "## Data Preprocessing"
      ]
    },
    {
      "cell_type": "markdown",
      "id": "66e0b508-80d9-4a0e-b895-afff96e128c9",
      "metadata": {
        "id": "66e0b508-80d9-4a0e-b895-afff96e128c9"
      },
      "source": [
        "In our modeling process we will be predicting the following 48 time steps, which correpsonds to 1 day. To make these predictions we have to create sliding windows that will be time sequences that will use a number of time steps to predict 1 day of GHI. "
      ]
    },
    {
      "cell_type": "code",
      "execution_count": 5,
      "id": "fzUUW_wBMwsp",
      "metadata": {
        "id": "fzUUW_wBMwsp"
      },
      "outputs": [],
      "source": [
        "# Numeric features that will be scaled\n",
        "num_features = ['Wind_x', 'Wind_y', 'Dew Point', 'Day Seasonality', 'Year Seasonality', 'Pressure', 'Relative Humidity', 'Temperature', 'Solar Zenith Angle']\n",
        "cloudtypes = keras.utils.to_categorical(df['Cloud Type'])"
      ]
    },
    {
      "cell_type": "code",
      "execution_count": 6,
      "id": "0ee10586-b42b-4515-859e-20ee2937107d",
      "metadata": {
        "id": "0ee10586-b42b-4515-859e-20ee2937107d"
      },
      "outputs": [],
      "source": [
        "stacked_data = np.hstack([df[num_features].values])\n",
        "\n",
        "# Scale\n",
        "ss = MinMaxScaler()\n",
        "stacked_sc = ss.fit_transform(stacked_data)\n",
        "ss_y = MinMaxScaler() #using a separate transformer for GHI so I can easily transform back afterwards\n",
        "stacked_tot = np.hstack([stacked_sc[:,:], cloudtypes[:,:], ss_y.fit_transform(df[['GHI']].values)])"
      ]
    },
    {
      "cell_type": "code",
      "execution_count": 7,
      "id": "3479d8c2-55ca-4a95-9cce-aa2ab3aa248f",
      "metadata": {
        "colab": {
          "base_uri": "https://localhost:8080/"
        },
        "id": "3479d8c2-55ca-4a95-9cce-aa2ab3aa248f",
        "outputId": "21473b4d-122d-4794-e2d2-d2e3357cfd28"
      },
      "outputs": [
        {
          "output_type": "stream",
          "name": "stdout",
          "text": [
            "X.shape (87409, 240, 19)\n",
            "y.shape (87409, 48)\n"
          ]
        }
      ],
      "source": [
        "# split a multivariate sequence into samples\n",
        "def split_sequences(sequences, n_steps_in, n_steps_out):\n",
        "    X, y = list(), list()\n",
        "    for i in range(len(sequences)):\n",
        "    # find the end of this pattern\n",
        "        end_ix = i + n_steps_in\n",
        "        out_end_ix = end_ix + n_steps_out -1\n",
        "    \n",
        "    # check if we are beyond the dataset\n",
        "        if out_end_ix == len(sequences):\n",
        "            break\n",
        "        \n",
        "    # gather input and output parts of the pattern\n",
        "        seq_x, seq_y = sequences[i:end_ix, :-1], sequences[end_ix-1:out_end_ix, -1]\n",
        "    \n",
        "        X.append(seq_x)\n",
        "        y.append(seq_y)\n",
        "    \n",
        "    return np.array(X), np.array(y)\n",
        "\n",
        "# choose a number of time steps #change this accordingly\n",
        "n_steps_in, n_steps_out = 240, 48\n",
        "\n",
        "# covert into input/output\n",
        "X, y = split_sequences(stacked_tot, n_steps_in, n_steps_out)\n",
        "print (\"X.shape\" , X.shape) \n",
        "print (\"y.shape\" , y.shape)"
      ]
    },
    {
      "cell_type": "code",
      "execution_count": 8,
      "id": "7a3caea2-1ae4-4950-8866-52c360f51535",
      "metadata": {
        "id": "7a3caea2-1ae4-4950-8866-52c360f51535"
      },
      "outputs": [],
      "source": [
        "X_train, X_test, y_train, y_test = train_test_split(X, y, shuffle=False, test_size = 0.2)"
      ]
    },
    {
      "cell_type": "code",
      "execution_count": 9,
      "id": "416c0a37-8db6-49be-9ddd-02b9e1caa95b",
      "metadata": {
        "colab": {
          "base_uri": "https://localhost:8080/"
        },
        "id": "416c0a37-8db6-49be-9ddd-02b9e1caa95b",
        "outputId": "74995909-4104-420c-ea28-4612216ab817"
      },
      "outputs": [
        {
          "output_type": "stream",
          "name": "stdout",
          "text": [
            "(69927, 240, 19)\n",
            "(17482, 240, 19)\n"
          ]
        }
      ],
      "source": [
        "print(X_train.shape)\n",
        "print(X_test.shape)"
      ]
    },
    {
      "cell_type": "markdown",
      "id": "fd8fa0da-ba4f-4a95-bf6a-5204225e0173",
      "metadata": {
        "id": "fd8fa0da-ba4f-4a95-bf6a-5204225e0173",
        "tags": []
      },
      "source": [
        "## WaveNet Model"
      ]
    },
    {
      "cell_type": "markdown",
      "id": "c36426d6-387c-48a8-b7e4-5560b0f5d18e",
      "metadata": {
        "id": "c36426d6-387c-48a8-b7e4-5560b0f5d18e"
      },
      "source": [
        "The Wavenet model was made for generating audio singals and showed to work well for them. Further reading on the model can be found from this [paper](https://arxiv.org/pdf/1609.03499.pdf). This lead to the idea of being used for other forecasting where we can take advantage of the use for longer time sequences. So, we will be applying this model to understand the complex and longevitive relationships of weather and solar radiation predictions. The intial code for the model is taken from this [repo](https://github.com/ageron/handson-ml2/blob/master/15_processing_sequences_using_rnns_and_cnns.ipynb)."
      ]
    },
    {
      "cell_type": "code",
      "execution_count": 10,
      "id": "4f7e3fe0-0f42-401c-80eb-436a59851bc1",
      "metadata": {
        "id": "4f7e3fe0-0f42-401c-80eb-436a59851bc1",
        "tags": []
      },
      "outputs": [],
      "source": [
        "class GatedActivationUnit(keras.layers.Layer):\n",
        "    \"\"\"\n",
        "    Creates a new activation that will elementwise multiple the output of two seperate activations\n",
        "    \"\"\"\n",
        "    def __init__(self, activation=\"tanh\", **kwargs):\n",
        "        super().__init__(**kwargs)\n",
        "        self.activation = keras.activations.get(activation)\n",
        "        \n",
        "    def get_config(self):\n",
        "        config = super().get_config().copy()\n",
        "        config.update({\n",
        "            'activation': self.activation,\n",
        "        })\n",
        "        return config \n",
        "    \n",
        "    def call(self, inputs):\n",
        "        n_filters = inputs.shape[-1] // 2\n",
        "        linear_output = self.activation(inputs[..., :n_filters])\n",
        "        gate = keras.activations.relu(inputs[..., n_filters:])\n",
        "        return self.activation(linear_output) * gate\n",
        "        \n",
        "\n",
        "def wavenet_residual_block(inputs, n_filters, dilation_rate):\n",
        "    \"\"\"\n",
        "    Creates blocks on 1D dilated convolutional layers with gated activations between each convolution.  \n",
        "    \"\"\"\n",
        "    z = keras.layers.Conv1D(2 * n_filters, kernel_size=2, padding=\"causal\",\n",
        "                            dilation_rate=dilation_rate)(inputs)\n",
        "    z = GatedActivationUnit()(z)\n",
        "    z = keras.layers.Conv1D(n_filters, kernel_size=1, kernel_regularizer=l2(0.005))(z)\n",
        "    return keras.layers.Add()([z, inputs]), z\n",
        "    \n",
        "\n",
        "def wavenet_model_setup(n_layers_per_block, n_blocks, n_filters, n_outputs, train_size, feature_dim, name):\n",
        "    \"\"\"\n",
        "    Creates a the wavenet model with the blocks of convolutional layers. Each of the blocks results in a skip \n",
        "    layer output that is used in following layers along with the total block output. A dense layer is added\n",
        "    to set the number of timesteps to predict. \n",
        "    \n",
        "    \"\"\"\n",
        "    inputs = keras.layers.Input(shape=[train_size, feature_dim])\n",
        "    z = keras.layers.Conv1D(n_filters, kernel_size=2, padding=\"causal\")(inputs)\n",
        "    skip_to_last = []\n",
        "    for dilation_rate in [2**i for i in range(n_layers_per_block)] * n_blocks:\n",
        "        z, skip = wavenet_residual_block(z, n_filters, dilation_rate)\n",
        "        skip_to_last.append(skip)\n",
        "    z = keras.activations.relu(keras.layers.Add()(skip_to_last))\n",
        "    z = keras.layers.Conv1D(n_filters, kernel_size=1, activation=\"relu\", kernel_regularizer=l2(0.01))(z)\n",
        "    z = keras.layers.Conv1D(n_filters, kernel_size=1, activation='relu', kernel_regularizer=l2(0.005))(z)\n",
        "    out = layers.Flatten()(z)\n",
        "    out = Dense(n_outputs)(out)\n",
        "    return keras.models.Model(inputs=[inputs], outputs=[out], name = name)"
      ]
    },
    {
      "cell_type": "code",
      "execution_count": 11,
      "id": "646d139e-4f65-47f1-8552-c6ec717c6795",
      "metadata": {
        "id": "646d139e-4f65-47f1-8552-c6ec717c6795"
      },
      "outputs": [],
      "source": [
        "# Call function to create out model\n",
        "model_wave = wavenet_model_setup(n_layers_per_block=8, \n",
        "                                 n_blocks=3, \n",
        "                                 n_filters=64,\n",
        "                                 n_outputs=n_steps_out,\n",
        "                                 train_size=n_steps_in, \n",
        "                                 feature_dim=X.shape[-1], \n",
        "                                 name='Wave')"
      ]
    },
    {
      "cell_type": "code",
      "execution_count": 12,
      "id": "503eea3a-d7f7-4298-a560-912d639679da",
      "metadata": {
        "colab": {
          "base_uri": "https://localhost:8080/"
        },
        "id": "503eea3a-d7f7-4298-a560-912d639679da",
        "outputId": "71540dec-a9d8-4645-f43c-40fed4fa847d"
      },
      "outputs": [
        {
          "output_type": "stream",
          "name": "stdout",
          "text": [
            "Epoch 1/100\n",
            "69/69 [==============================] - 120s 1s/step - loss: 5.9030 - mae: 0.0871 - val_loss: 3.3993 - val_mae: 0.0558\n",
            "Epoch 2/100\n",
            "69/69 [==============================] - 77s 1s/step - loss: 2.0917 - mae: 0.0488 - val_loss: 1.1127 - val_mae: 0.0500\n",
            "Epoch 3/100\n",
            "69/69 [==============================] - 77s 1s/step - loss: 0.6555 - mae: 0.0482 - val_loss: 0.3268 - val_mae: 0.0465\n",
            "Epoch 4/100\n",
            "69/69 [==============================] - 77s 1s/step - loss: 0.1863 - mae: 0.0488 - val_loss: 0.0947 - val_mae: 0.0747\n",
            "Epoch 5/100\n",
            "69/69 [==============================] - 77s 1s/step - loss: 0.0525 - mae: 0.0500 - val_loss: 0.0275 - val_mae: 0.0459\n",
            "Epoch 6/100\n",
            "69/69 [==============================] - 77s 1s/step - loss: 0.0189 - mae: 0.0490 - val_loss: 0.0134 - val_mae: 0.0522\n",
            "Epoch 7/100\n",
            "69/69 [==============================] - 77s 1s/step - loss: 0.0110 - mae: 0.0483 - val_loss: 0.0097 - val_mae: 0.0457\n",
            "Epoch 8/100\n",
            "69/69 [==============================] - 77s 1s/step - loss: 0.0091 - mae: 0.0472 - val_loss: 0.0092 - val_mae: 0.0448\n",
            "Epoch 9/100\n",
            "69/69 [==============================] - 77s 1s/step - loss: 0.0084 - mae: 0.0458 - val_loss: 0.0092 - val_mae: 0.0453\n",
            "Epoch 10/100\n",
            "69/69 [==============================] - 77s 1s/step - loss: 0.0083 - mae: 0.0461 - val_loss: 0.0095 - val_mae: 0.0550\n",
            "Epoch 11/100\n",
            "69/69 [==============================] - 77s 1s/step - loss: 0.0080 - mae: 0.0454 - val_loss: 0.0088 - val_mae: 0.0510\n",
            "Epoch 12/100\n",
            "69/69 [==============================] - 77s 1s/step - loss: 0.0078 - mae: 0.0448 - val_loss: 0.0083 - val_mae: 0.0484\n",
            "Epoch 13/100\n",
            "69/69 [==============================] - 77s 1s/step - loss: 0.0077 - mae: 0.0446 - val_loss: 0.0079 - val_mae: 0.0432\n",
            "Epoch 14/100\n",
            "69/69 [==============================] - 77s 1s/step - loss: 0.0075 - mae: 0.0437 - val_loss: 0.0114 - val_mae: 0.0560\n",
            "Epoch 15/100\n",
            "69/69 [==============================] - 77s 1s/step - loss: 0.0075 - mae: 0.0436 - val_loss: 0.0084 - val_mae: 0.0430\n",
            "Epoch 16/100\n",
            "69/69 [==============================] - 77s 1s/step - loss: 0.0072 - mae: 0.0427 - val_loss: 0.0108 - val_mae: 0.0635\n",
            "Epoch 17/100\n",
            "69/69 [==============================] - 77s 1s/step - loss: 0.0073 - mae: 0.0434 - val_loss: 0.0078 - val_mae: 0.0472\n",
            "Epoch 18/100\n",
            "69/69 [==============================] - 77s 1s/step - loss: 0.0072 - mae: 0.0430 - val_loss: 0.0076 - val_mae: 0.0410\n",
            "Epoch 19/100\n",
            "69/69 [==============================] - 77s 1s/step - loss: 0.0071 - mae: 0.0424 - val_loss: 0.0076 - val_mae: 0.0449\n",
            "Epoch 20/100\n",
            "69/69 [==============================] - 77s 1s/step - loss: 0.0070 - mae: 0.0424 - val_loss: 0.0074 - val_mae: 0.0407\n",
            "Epoch 21/100\n",
            "69/69 [==============================] - 77s 1s/step - loss: 0.0070 - mae: 0.0424 - val_loss: 0.0073 - val_mae: 0.0407\n",
            "Epoch 22/100\n",
            "69/69 [==============================] - 77s 1s/step - loss: 0.0069 - mae: 0.0420 - val_loss: 0.0075 - val_mae: 0.0453\n",
            "Epoch 23/100\n",
            "69/69 [==============================] - 77s 1s/step - loss: 0.0068 - mae: 0.0418 - val_loss: 0.0073 - val_mae: 0.0430\n",
            "Epoch 24/100\n",
            "69/69 [==============================] - 77s 1s/step - loss: 0.0068 - mae: 0.0417 - val_loss: 0.0077 - val_mae: 0.0397\n",
            "Epoch 25/100\n",
            "69/69 [==============================] - 77s 1s/step - loss: 0.0067 - mae: 0.0412 - val_loss: 0.0075 - val_mae: 0.0397\n",
            "Epoch 26/100\n",
            "69/69 [==============================] - 77s 1s/step - loss: 0.0067 - mae: 0.0414 - val_loss: 0.0083 - val_mae: 0.0440\n",
            "Epoch 27/100\n",
            "69/69 [==============================] - 77s 1s/step - loss: 0.0066 - mae: 0.0412 - val_loss: 0.0074 - val_mae: 0.0446\n",
            "Epoch 28/100\n",
            "69/69 [==============================] - 77s 1s/step - loss: 0.0066 - mae: 0.0410 - val_loss: 0.0080 - val_mae: 0.0490\n",
            "Epoch 29/100\n",
            "69/69 [==============================] - 77s 1s/step - loss: 0.0066 - mae: 0.0414 - val_loss: 0.0073 - val_mae: 0.0397\n",
            "Epoch 30/100\n",
            "69/69 [==============================] - 77s 1s/step - loss: 0.0064 - mae: 0.0399 - val_loss: 0.0073 - val_mae: 0.0450\n",
            "Epoch 31/100\n",
            "69/69 [==============================] - 77s 1s/step - loss: 0.0065 - mae: 0.0409 - val_loss: 0.0081 - val_mae: 0.0509\n",
            "Epoch 32/100\n",
            "69/69 [==============================] - 77s 1s/step - loss: 0.0065 - mae: 0.0407 - val_loss: 0.0073 - val_mae: 0.0423\n",
            "Epoch 33/100\n",
            "69/69 [==============================] - 77s 1s/step - loss: 0.0064 - mae: 0.0401 - val_loss: 0.0074 - val_mae: 0.0425\n",
            "Epoch 34/100\n",
            "69/69 [==============================] - 77s 1s/step - loss: 0.0064 - mae: 0.0404 - val_loss: 0.0075 - val_mae: 0.0468\n",
            "Epoch 35/100\n",
            "69/69 [==============================] - 77s 1s/step - loss: 0.0063 - mae: 0.0398 - val_loss: 0.0071 - val_mae: 0.0411\n",
            "Epoch 36/100\n",
            "69/69 [==============================] - 77s 1s/step - loss: 0.0062 - mae: 0.0395 - val_loss: 0.0072 - val_mae: 0.0407\n",
            "Epoch 37/100\n",
            "69/69 [==============================] - 77s 1s/step - loss: 0.0062 - mae: 0.0396 - val_loss: 0.0071 - val_mae: 0.0398\n",
            "Epoch 38/100\n",
            "69/69 [==============================] - 77s 1s/step - loss: 0.0062 - mae: 0.0394 - val_loss: 0.0073 - val_mae: 0.0395\n",
            "Epoch 39/100\n",
            "69/69 [==============================] - 77s 1s/step - loss: 0.0061 - mae: 0.0392 - val_loss: 0.0072 - val_mae: 0.0416\n",
            "Epoch 40/100\n",
            "69/69 [==============================] - 77s 1s/step - loss: 0.0060 - mae: 0.0386 - val_loss: 0.0072 - val_mae: 0.0402\n",
            "Epoch 41/100\n",
            "69/69 [==============================] - 77s 1s/step - loss: 0.0060 - mae: 0.0389 - val_loss: 0.0076 - val_mae: 0.0387\n",
            "Epoch 42/100\n",
            "69/69 [==============================] - 77s 1s/step - loss: 0.0059 - mae: 0.0383 - val_loss: 0.0073 - val_mae: 0.0438\n",
            "Epoch 43/100\n",
            "69/69 [==============================] - 77s 1s/step - loss: 0.0058 - mae: 0.0380 - val_loss: 0.0076 - val_mae: 0.0383\n",
            "Epoch 44/100\n",
            "69/69 [==============================] - 77s 1s/step - loss: 0.0057 - mae: 0.0375 - val_loss: 0.0076 - val_mae: 0.0384\n",
            "Epoch 45/100\n",
            "69/69 [==============================] - 77s 1s/step - loss: 0.0057 - mae: 0.0374 - val_loss: 0.0078 - val_mae: 0.0383\n",
            "Epoch 46/100\n",
            "69/69 [==============================] - 77s 1s/step - loss: 0.0057 - mae: 0.0373 - val_loss: 0.0074 - val_mae: 0.0427\n",
            "Epoch 47/100\n",
            "69/69 [==============================] - 77s 1s/step - loss: 0.0055 - mae: 0.0363 - val_loss: 0.0074 - val_mae: 0.0395\n",
            "Epoch 48/100\n",
            "69/69 [==============================] - 77s 1s/step - loss: 0.0055 - mae: 0.0364 - val_loss: 0.0077 - val_mae: 0.0422\n",
            "Epoch 49/100\n",
            "69/69 [==============================] - 77s 1s/step - loss: 0.0054 - mae: 0.0357 - val_loss: 0.0077 - val_mae: 0.0387\n",
            "Epoch 50/100\n",
            "69/69 [==============================] - 77s 1s/step - loss: 0.0053 - mae: 0.0356 - val_loss: 0.0079 - val_mae: 0.0450\n",
            "Epoch 51/100\n",
            "69/69 [==============================] - 77s 1s/step - loss: 0.0051 - mae: 0.0349 - val_loss: 0.0082 - val_mae: 0.0472\n",
            "Epoch 52/100\n",
            "69/69 [==============================] - 77s 1s/step - loss: 0.0051 - mae: 0.0350 - val_loss: 0.0079 - val_mae: 0.0403\n",
            "Epoch 53/100\n",
            "69/69 [==============================] - 77s 1s/step - loss: 0.0050 - mae: 0.0344 - val_loss: 0.0080 - val_mae: 0.0452\n",
            "Epoch 54/100\n",
            "69/69 [==============================] - 77s 1s/step - loss: 0.0049 - mae: 0.0341 - val_loss: 0.0080 - val_mae: 0.0426\n",
            "Epoch 55/100\n",
            "69/69 [==============================] - 77s 1s/step - loss: 0.0048 - mae: 0.0333 - val_loss: 0.0076 - val_mae: 0.0388\n",
            "Epoch 56/100\n",
            "69/69 [==============================] - 77s 1s/step - loss: 0.0047 - mae: 0.0329 - val_loss: 0.0110 - val_mae: 0.0504\n",
            "Epoch 57/100\n",
            "69/69 [==============================] - 77s 1s/step - loss: 0.0053 - mae: 0.0353 - val_loss: 0.0077 - val_mae: 0.0405\n",
            "Epoch 58/100\n",
            "69/69 [==============================] - 77s 1s/step - loss: 0.0046 - mae: 0.0322 - val_loss: 0.0081 - val_mae: 0.0441\n",
            "Epoch 59/100\n",
            "69/69 [==============================] - 77s 1s/step - loss: 0.0046 - mae: 0.0326 - val_loss: 0.0082 - val_mae: 0.0387\n",
            "Epoch 60/100\n",
            "69/69 [==============================] - 77s 1s/step - loss: 0.0045 - mae: 0.0323 - val_loss: 0.0084 - val_mae: 0.0454\n",
            "Epoch 61/100\n",
            "69/69 [==============================] - 77s 1s/step - loss: 0.0044 - mae: 0.0319 - val_loss: 0.0081 - val_mae: 0.0448\n",
            "Epoch 62/100\n",
            "69/69 [==============================] - 77s 1s/step - loss: 0.0043 - mae: 0.0314 - val_loss: 0.0085 - val_mae: 0.0388\n",
            "Epoch 63/100\n",
            "69/69 [==============================] - 77s 1s/step - loss: 0.0044 - mae: 0.0316 - val_loss: 0.0083 - val_mae: 0.0406\n",
            "Epoch 64/100\n",
            "69/69 [==============================] - 77s 1s/step - loss: 0.0042 - mae: 0.0308 - val_loss: 0.0083 - val_mae: 0.0422\n",
            "Epoch 65/100\n",
            "69/69 [==============================] - 77s 1s/step - loss: 0.0042 - mae: 0.0308 - val_loss: 0.0082 - val_mae: 0.0391\n",
            "Epoch 66/100\n",
            "69/69 [==============================] - 77s 1s/step - loss: 0.0041 - mae: 0.0302 - val_loss: 0.0086 - val_mae: 0.0438\n",
            "Epoch 67/100\n",
            "69/69 [==============================] - 77s 1s/step - loss: 0.0041 - mae: 0.0305 - val_loss: 0.0095 - val_mae: 0.0494\n",
            "Epoch 68/100\n",
            "69/69 [==============================] - 77s 1s/step - loss: 0.0041 - mae: 0.0304 - val_loss: 0.0092 - val_mae: 0.0422\n",
            "Epoch 69/100\n",
            "69/69 [==============================] - 76s 1s/step - loss: 0.0043 - mae: 0.0311 - val_loss: 0.0088 - val_mae: 0.0432\n"
          ]
        }
      ],
      "source": [
        "es = keras.callbacks.EarlyStopping(monitor='val_loss', patience=3)\n",
        "model_wave.compile(loss=\"mse\", optimizer=Nadam(learning_rate=0.001), metrics=['mae'])\n",
        "\n",
        "history_wave = model_wave.fit(X_train, y_train, \n",
        "                              epochs=100, \n",
        "                              batch_size=1024,\n",
        "                              validation_data=(X_test, y_test), \n",
        "                              callbacks = [es])\n"
      ]
    },
    {
      "cell_type": "markdown",
      "id": "ffc6c498-ef6e-4837-ace3-49bd50a5ea71",
      "metadata": {
        "id": "ffc6c498-ef6e-4837-ace3-49bd50a5ea71"
      },
      "source": [
        "#### Model Evaluation"
      ]
    },
    {
      "cell_type": "code",
      "execution_count": 13,
      "id": "cfb782a5-cdb5-4d1e-a793-774cbbaaa31c",
      "metadata": {
        "colab": {
          "base_uri": "https://localhost:8080/"
        },
        "id": "cfb782a5-cdb5-4d1e-a793-774cbbaaa31c",
        "outputId": "9f1e1d7e-1e7a-4648-db3c-5dfe1547e68d"
      },
      "outputs": [
        {
          "output_type": "stream",
          "name": "stdout",
          "text": [
            "2186/2186 [==============================] - 27s 12ms/step\n",
            "547/547 [==============================] - 7s 12ms/step\n"
          ]
        }
      ],
      "source": [
        "# Create predictions on the training and test sets for comparison an bias-variance trade-off\n",
        "preds_train = model_wave.predict(X_train)\n",
        "preds_test = model_wave.predict(X_test)\n",
        "\n",
        "\n",
        "#preds_train = model_wave_uni.predict(train_X)\n",
        "#preds_test = model_wave_uni.predict(test_X)"
      ]
    },
    {
      "cell_type": "code",
      "execution_count": 14,
      "id": "p2Fnp6Na7GgF",
      "metadata": {
        "id": "p2Fnp6Na7GgF"
      },
      "outputs": [],
      "source": [
        "# Revert min-max scaling for interpratibility of scores\n",
        "y_test_ghi = ss_y.inverse_transform(y_test)\n",
        "preds_test_ghi = ss_y.inverse_transform(preds_test)\n",
        "y_train_ghi = ss_y.inverse_transform(y_train)\n",
        "preds_train_ghi = ss_y.inverse_transform(preds_train)"
      ]
    },
    {
      "cell_type": "code",
      "execution_count": 15,
      "id": "5847ef40-6612-4fef-9c11-3c1957753422",
      "metadata": {
        "colab": {
          "base_uri": "https://localhost:8080/"
        },
        "id": "5847ef40-6612-4fef-9c11-3c1957753422",
        "outputId": "14ec1619-ae40-4af4-ed6c-275344d4a2b3"
      },
      "outputs": [
        {
          "output_type": "execute_result",
          "data": {
            "text/plain": [
              "96.42674968697484"
            ]
          },
          "metadata": {},
          "execution_count": 15
        }
      ],
      "source": [
        "mse(y_test_ghi[:,-1], preds_test_ghi[:,-1], squared=False)"
      ]
    },
    {
      "cell_type": "code",
      "execution_count": 16,
      "id": "541600a9-b0fa-4a7b-8c26-d78764306732",
      "metadata": {
        "colab": {
          "base_uri": "https://localhost:8080/"
        },
        "id": "541600a9-b0fa-4a7b-8c26-d78764306732",
        "outputId": "e292d90e-bd2c-4c39-c896-4a84af07cf09"
      },
      "outputs": [
        {
          "output_type": "execute_result",
          "data": {
            "text/plain": [
              "45.72749195313756"
            ]
          },
          "metadata": {},
          "execution_count": 16
        }
      ],
      "source": [
        "mae(y_test_ghi[:,-1], preds_test_ghi[:,-1])"
      ]
    },
    {
      "cell_type": "markdown",
      "id": "9a88d134-0a64-49fc-8bd6-d9172368c653",
      "metadata": {
        "id": "9a88d134-0a64-49fc-8bd6-d9172368c653"
      },
      "source": [
        "#### Forecasting Results"
      ]
    },
    {
      "cell_type": "code",
      "execution_count": 17,
      "id": "61ff9fcd-0a71-4fc6-b816-85bddfa1b0cb",
      "metadata": {
        "colab": {
          "base_uri": "https://localhost:8080/",
          "height": 564
        },
        "id": "61ff9fcd-0a71-4fc6-b816-85bddfa1b0cb",
        "outputId": "48aa68c6-948b-4f36-bdae-518702367248"
      },
      "outputs": [
        {
          "output_type": "display_data",
          "data": {
            "text/plain": [
              "<Figure size 1000x600 with 1 Axes>"
            ],
            "image/png": "[encoded data removed]"
          },
          "metadata": {}
        }
      ],
      "source": [
        "plt.figure(figsize=(10, 6))\n",
        "plt.plot(y_test_ghi[:,-1][:240], label='Ground Truth')\n",
        "plt.plot(preds_test_ghi[:,-1][:240], label='Predicted')\n",
        "plt.ylabel('GHI')\n",
        "plt.xlabel('Time Steps (30 mins)')\n",
        "plt.title('GHI Predictions for 5 days')\n",
        "plt.legend();\n",
        "#plt.savefig('../figures/wavenet_predictions.png') #Uncomment for local notebook use\n",
        "plt.savefig('wavenet_predictions.png')"
      ]
    },
    {
      "cell_type": "markdown",
      "id": "db824e9e-9ef4-4650-9f6e-a10819200dba",
      "metadata": {
        "id": "db824e9e-9ef4-4650-9f6e-a10819200dba"
      },
      "source": [
        "#### Filtered Errors"
      ]
    },
    {
      "cell_type": "markdown",
      "id": "165bc963-a491-4b2c-9e0a-8a7a9bc9ce36",
      "metadata": {
        "id": "165bc963-a491-4b2c-9e0a-8a7a9bc9ce36"
      },
      "source": [
        "When calculating our error, we have to consider that it will only be valuable to make a solar radiation prediction when the sun is out. So we will filter our predictions to timesteps where the `Solar Zenith Angle` is lower than 90 degrees, which indicates that there is daylight."
      ]
    },
    {
      "cell_type": "code",
      "execution_count": 18,
      "id": "b567b6af-90a4-48e2-b0f4-d349356b712e",
      "metadata": {
        "id": "b567b6af-90a4-48e2-b0f4-d349356b712e"
      },
      "outputs": [],
      "source": [
        "def filter_sz(sz, train_y, test_y, n_steps_in):\n",
        "    \"\"\"\n",
        "    Given an input series of solar zenith angle, the train and test y data, and n_steps_in (number of timesteps used to forecast), \n",
        "    create boolean arrays in the same shapes as train_y and test_y, which can be used to filter out all datapoints where the sun is down\n",
        "    (= solar zenith angle below 90 degrees)\n",
        "    \"\"\"\n",
        "    \n",
        "    #find all indexes where the solar zenith angle is above 90 in the OG dataframe\n",
        "    sz_mask = np.where(df['Solar Zenith Angle'] < 90, 1, 0)\n",
        "    train_y_mask = np.zeros(train_y.shape)\n",
        "    test_y_mask = np.zeros(test_y.shape)\n",
        "    n_steps_out = train_y.shape[1] #number of timesteps forecasted\n",
        "    split_idx = train_y.shape[0] #index of split between train and test\n",
        "    \n",
        "    #now loop over each batch in train_y and make a mask\n",
        "    for i in range(train_y.shape[0]):\n",
        "        start = i + n_steps_in\n",
        "        stop = i + n_steps_in + n_steps_out\n",
        "        train_y_mask[i,:] = sz_mask[start:stop]\n",
        "    for j in range(test_y.shape[0]):\n",
        "        #print(j)\n",
        "        start = j + n_steps_in + split_idx -1\n",
        "        stop = j + n_steps_in + n_steps_out + split_idx -1\n",
        "        try:\n",
        "            test_y_mask[j,:] = sz_mask[start:stop]\n",
        "        except:\n",
        "            print(j, start, stop)\n",
        "    return train_y_mask.astype(dtype=bool), test_y_mask.astype(dtype=bool)"
      ]
    },
    {
      "cell_type": "code",
      "execution_count": 19,
      "id": "e189d2df-81b7-4754-90d2-ebf7b95a9370",
      "metadata": {
        "id": "e189d2df-81b7-4754-90d2-ebf7b95a9370"
      },
      "outputs": [],
      "source": [
        "train_y_mask, test_y_mask = filter_sz(df['Solar Zenith Angle'], y_train, y_test, n_steps_in)"
      ]
    },
    {
      "cell_type": "code",
      "execution_count": 19,
      "id": "4dfcc228-5000-4c61-b63f-6a7ee0119857",
      "metadata": {
        "id": "4dfcc228-5000-4c61-b63f-6a7ee0119857"
      },
      "outputs": [],
      "source": []
    },
    {
      "cell_type": "code",
      "execution_count": 20,
      "id": "bc042f20-74c0-4f22-9a08-b525eb0af7c5",
      "metadata": {
        "id": "bc042f20-74c0-4f22-9a08-b525eb0af7c5"
      },
      "outputs": [],
      "source": [
        "y_test_ghi_filt = y_test_ghi[test_y_mask]\n",
        "y_train_ghi_filt = y_train_ghi[train_y_mask]\n",
        "preds_train_ghi_filt = preds_train_ghi[train_y_mask]\n",
        "preds_test_ghi_filt = preds_test_ghi[test_y_mask]"
      ]
    },
    {
      "cell_type": "code",
      "execution_count": 21,
      "id": "18edfab8-980c-4efb-87a1-261f79bc4e42",
      "metadata": {
        "colab": {
          "base_uri": "https://localhost:8080/"
        },
        "id": "18edfab8-980c-4efb-87a1-261f79bc4e42",
        "outputId": "ba314d5d-cef1-41cd-a5af-3a004ed6978b"
      },
      "outputs": [
        {
          "output_type": "stream",
          "name": "stdout",
          "text": [
            "Filtered Training RMSE: 91.4275843313953\n",
            "Filtered Testing RSME:  134.99690460589582\n"
          ]
        }
      ],
      "source": [
        "print(f'Filtered Training RMSE: {mse(y_train_ghi_filt, preds_train_ghi_filt, squared=False)}')\n",
        "print(f'Filtered Testing RSME:  {mse(y_test_ghi_filt, preds_test_ghi_filt, squared=False)}')"
      ]
    },
    {
      "cell_type": "code",
      "execution_count": 22,
      "id": "19680e84-88ab-429b-96ea-4d3b9227bfce",
      "metadata": {
        "colab": {
          "base_uri": "https://localhost:8080/"
        },
        "id": "19680e84-88ab-429b-96ea-4d3b9227bfce",
        "outputId": "dec3ff01-4b7d-479c-f4ed-4ae8e1dfc9c5"
      },
      "outputs": [
        {
          "output_type": "stream",
          "name": "stdout",
          "text": [
            "Filtered Trainging MAE: 59.658202516243\n",
            "Filtered Testing MAE: 81.54504351874729\n"
          ]
        }
      ],
      "source": [
        "print(f'Filtered Trainging MAE: {mae(y_train_ghi_filt, preds_train_ghi_filt)}') \n",
        "print(f'Filtered Testing MAE: {mae(y_test_ghi_filt, preds_test_ghi_filt)}')"
      ]
    },
    {
      "cell_type": "markdown",
      "id": "1594944f-274a-47d2-8dc4-9af49c37c8d7",
      "metadata": {
        "id": "1594944f-274a-47d2-8dc4-9af49c37c8d7"
      },
      "source": [
        "After filtering, are errors have increased slightly. When actually taking in consideration times when there is daylight our error is larger and that could be caused from the unpredictability of the outcome, while no solar radiation is easy to predict. "
      ]
    },
    {
      "cell_type": "markdown",
      "id": "3135360b-63bc-41bd-9b2a-ca954a373347",
      "metadata": {
        "id": "3135360b-63bc-41bd-9b2a-ca954a373347"
      },
      "source": [
        "### Error Overtime"
      ]
    },
    {
      "cell_type": "markdown",
      "id": "ef609d6b-a0ca-44a8-ab46-0e45f1a93f22",
      "metadata": {
        "id": "ef609d6b-a0ca-44a8-ab46-0e45f1a93f22"
      },
      "source": [
        "We will also check the prediction scores on filtered data for `Solar Zenith Angle` based on how many time steps in the future it is being predicted"
      ]
    },
    {
      "cell_type": "code",
      "execution_count": 23,
      "id": "e7d11af6-1013-4f93-9ec3-77f373f23fb5",
      "metadata": {
        "id": "e7d11af6-1013-4f93-9ec3-77f373f23fb5"
      },
      "outputs": [],
      "source": [
        "nf = df[(n_steps_in + n_steps_out+1):].reset_index()\n",
        "l = list(nf[nf['Solar Zenith Angle'] < 90].index);\n",
        "l_train, l_test = train_test_split(l, test_size=0.2, shuffle=False)\n",
        "l_train = [l - X_train.shape[0] for l in l_train]\n",
        "l_test = [l - X_train.shape[0] for l in l_test]"
      ]
    },
    {
      "cell_type": "code",
      "execution_count": 24,
      "id": "05c3f6c1-da33-4de5-bdf5-ec72a1ade034",
      "metadata": {
        "colab": {
          "base_uri": "https://localhost:8080/",
          "height": 583
        },
        "id": "05c3f6c1-da33-4de5-bdf5-ec72a1ade034",
        "outputId": "2936f05c-4a6f-405e-dbfa-3161db09d5a2"
      },
      "outputs": [
        {
          "output_type": "display_data",
          "data": {
            "text/plain": [
              "<Figure size 1200x600 with 2 Axes>"
            ],
            "image/png": "[encoded data removed]"
          },
          "metadata": {}
        }
      ],
      "source": [
        "rmse_train = []\n",
        "mae_train = []\n",
        "rmse_test = []\n",
        "mae_test = []\n",
        "\n",
        "for i in range(n_steps_out):\n",
        "    y1 = pd.DataFrame(y_train_ghi[:,i].T)\n",
        "    y1.iloc[l_train, :]\n",
        "    y2 = pd.DataFrame(preds_train_ghi[:,i].T)\n",
        "    y2.iloc[l_train, :]\n",
        "    rmse_train.append(mse(y1, y2, squared=False))\n",
        "    mae_train.append(mae(y1, y2))\n",
        "    \n",
        "    y1 = pd.DataFrame(y_test_ghi[:,i].T)\n",
        "    y1.iloc[l_test, :]\n",
        "    y2 = pd.DataFrame(preds_test_ghi[:,i].T)\n",
        "    y2.iloc[l_test, :]\n",
        "    rmse_test.append(mse(y1, y2, squared=False))\n",
        "    mae_test.append(mae(y1, y2))\n",
        "    \n",
        "\n",
        "fig, axes = plt.subplots(nrows=2, ncols=1, figsize=(12, 6))\n",
        "fig.suptitle('Error in 24 Hour Predictions')\n",
        "axes[0].plot(rmse_train, label='Training')\n",
        "axes[0].plot(rmse_test, label='Testing')\n",
        "axes[0].set_ylabel('RMSE')\n",
        "axes[0].legend()\n",
        "\n",
        "axes[1].plot(mae_train, label='Training')\n",
        "axes[1].plot(mae_test, label='Testing')\n",
        "axes[1].set_ylabel('MAE')\n",
        "axes[1].set_xlabel('Time Steps (30 mins)')\n",
        "axes[1].legend();\n",
        "\n",
        "#fig.savefig('../figures/wavenet_24hr_error.png')  # Uncomment for saving in local notebook\n",
        "fig.savefig('wavenet_24hr_error.png')"
      ]
    },
    {
      "cell_type": "markdown",
      "id": "a5f362e3-5d58-4435-800b-88a2c3ff4891",
      "metadata": {
        "id": "a5f362e3-5d58-4435-800b-88a2c3ff4891"
      },
      "source": [
        "The model has similar prediction errors throughout the majority of the 24 hour forecasting. There appears to be a larger mean absolute error for the first couple of time steps. The biggest problem with the current model is the overfitting of the model. The erros are much smaller in the training set than on the testing set.   "
      ]
    },
    {
      "cell_type": "code",
      "execution_count": null,
      "id": "c13bef93-58ec-4918-a1a0-8ea52658bb14",
      "metadata": {
        "id": "c13bef93-58ec-4918-a1a0-8ea52658bb14"
      },
      "outputs": [],
      "source": []
    }
  ],
  "metadata": {
    "accelerator": "GPU",
    "colab": {
      "gpuType": "T4",
      "provenance": [],
      "machine_shape": "hm"
    },
    "gpuClass": "standard",
    "kernelspec": {
      "display_name": "Python 3",
      "name": "python3"
    },
    "language_info": {
      "name": "python"
    }
  },
  "nbformat": 4,
  "nbformat_minor": 5
}