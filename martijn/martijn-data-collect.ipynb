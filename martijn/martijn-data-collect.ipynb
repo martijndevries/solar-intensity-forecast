{
 "cells": [
  {
   "cell_type": "code",
   "execution_count": 1,
   "id": "eb494aa6-a5af-42e5-ad41-126036940b57",
   "metadata": {},
   "outputs": [],
   "source": [
    "import sys, os\n",
    "import pandas as pd\n",
    "import numpy as np\n",
    "import time"
   ]
  },
  {
   "cell_type": "markdown",
   "id": "2dde4591-774a-4bb7-95f4-15644bc18095",
   "metadata": {},
   "source": [
    "## Martijns data collection notebook"
   ]
  },
  {
   "cell_type": "markdown",
   "id": "2154f023-7a93-41f5-982c-4482940a2c5f",
   "metadata": {},
   "source": [
    "Let's take the data for 2020. The code to retrieve this data was taken from\n",
    "https://developer.nrel.gov/docs/solar/nsrdb/python-examples/"
   ]
  },
  {
   "cell_type": "code",
   "execution_count": 2,
   "id": "6d31eb00-1eff-44cd-85a9-6b5abb23d487",
   "metadata": {},
   "outputs": [],
   "source": [
    "def get_nsrdb_data(year, api_key=''):\n",
    "    \"\"\"\n",
    "    Construct URL to read in NSRDB data into a pandas data frame. Most of this code is copied from  https://developer.nrel.gov/docs/solar/nsrdb/python-examples/\n",
    "    \"\"\"\n",
    "    # Declare all variables as strings. Spaces must be replaced with '+', i.e., change 'John Smith' to 'John+Smith'.\n",
    "    # Define the lat, long of the location and the year\n",
    "    lat, lon = 34.0522, -118.243683\n",
    "\n",
    "    # Set the attributes to extract (e.g., dhi, ghi, etc.), separated by commas.\n",
    "    attributes = 'air_temperature,clearsky_dhi,clearsky_dni,clearsky_ghi,cloud_type,dew_point,dhi,dni,fill_flag,ghi,relative_humidity,solar_zenith_angle,'\\\n",
    "        'surface_albedo,surface_pressure,total_precipitable_water,wind_direction,wind_speed'\n",
    "\n",
    "    if int(year)%4==0: \n",
    "        leap_year = 'true'\n",
    "    else:\n",
    "        leap_year = 'false'\n",
    "\n",
    "    # Set time interval in minutes, i.e., '30' is half hour intervals. Valid intervals are 30 & 60.\n",
    "    interval = '30'\n",
    "\n",
    "    # Specify Coordinated Universal Time (UTC), 'true' will use UTC, 'false' will use the local time zone of the data.\n",
    "    # NOTE: In order to use the NSRDB data in SAM, you must specify UTC as 'false'. SAM requires the data to be in the\n",
    "    # local time zone.\n",
    "    utc = 'false'\n",
    "\n",
    "    # Your full name, use '+' instead of spaces.\n",
    "    your_name = 'Martijn+deVries'\n",
    "\n",
    "    # Your reason for using the NSRDB.\n",
    "    reason_for_use = 'private+project'\n",
    "    # Your affiliation\n",
    "    your_affiliation = 'General+Assembly'\n",
    "    # Your email address\n",
    "    your_email = 'martijndevries91@gmail.com'\n",
    "    # Please join our mailing list so we can keep you up-to-date on new developments.\n",
    "    mailing_list = 'false'\n",
    "\n",
    "    # Declare url string\n",
    "    url = 'https://developer.nrel.gov/api/nsrdb/v2/solar/psm3-download.csv?wkt=POINT({lon}%20{lat})&names={year}&leap_day={leap}&interval={interval}&utc={utc}&full_name={name}&email={email}&affiliation={affiliation}&mailing_list={mailing_list}&reason={reason}&api_key={api}&attributes={attr}'.format(year=year, lat=lat, lon=lon, leap=leap_year, interval=interval, utc=utc, name=your_name, email=your_email, mailing_list=mailing_list, affiliation=your_affiliation, reason=reason_for_use, api=api_key, attr=attributes)\n",
    "    # Return just the first 2 lines to get metadata:\n",
    "    info = pd.read_csv(url, nrows=1)\n",
    "    # See metadata for specified properties, e.g., timezone and elevation\n",
    "    timezone, elevation = info['Local Time Zone'], info['Elevation']\n",
    "    \n",
    "    df = pd.read_csv(url, skiprows=2)\n",
    "    \n",
    "    return df"
   ]
  },
  {
   "cell_type": "code",
   "execution_count": 12,
   "id": "fbee579c-3015-4bb6-a7c4-0a2a0e192941",
   "metadata": {},
   "outputs": [
    {
     "name": "stdout",
     "output_type": "stream",
     "text": [
      "2016\n",
      "2017\n",
      "2018\n",
      "2019\n",
      "2020\n",
      "(87696, 22)\n"
     ]
    }
   ],
   "source": [
    "for i in range(2016, 2021):\n",
    "    time.sleep(10) #polite\n",
    "    print(i)\n",
    "\n",
    "    if i == 2016:\n",
    "        df = get_nsrdb_data(str(i), api_key=api_key)\n",
    "    else:\n",
    "        df1 = get_nsrdb_data(str(i), api_key=api_key)\n",
    "        df = pd.concat([df, df1])\n",
    "print(df.shape)\n"
   ]
  },
  {
   "cell_type": "code",
   "execution_count": 13,
   "id": "d3f44725-7b7b-41b1-922d-fbe74610a25a",
   "metadata": {},
   "outputs": [],
   "source": [
    "df.to_csv('./martijn/martijn-nsrdb.csv', index=False)"
   ]
  },
  {
   "cell_type": "code",
   "execution_count": null,
   "id": "61821b1f-fa29-4e45-9b03-8af5dfb85fed",
   "metadata": {},
   "outputs": [],
   "source": []
  }
 ],
 "metadata": {
  "kernelspec": {
   "display_name": "Python 3 (ipykernel)",
   "language": "python",
   "name": "python3"
  },
  "language_info": {
   "codemirror_mode": {
    "name": "ipython",
    "version": 3
   },
   "file_extension": ".py",
   "mimetype": "text/x-python",
   "name": "python",
   "nbconvert_exporter": "python",
   "pygments_lexer": "ipython3",
   "version": "3.8.8"
  }
 },
 "nbformat": 4,
 "nbformat_minor": 5
}
